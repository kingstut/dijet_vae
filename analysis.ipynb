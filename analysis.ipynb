{
 "cells": [
  {
   "cell_type": "code",
   "execution_count": 1,
   "metadata": {},
   "outputs": [
    {
     "name": "stderr",
     "output_type": "stream",
     "text": [
      "Using TensorFlow backend.\n"
     ]
    }
   ],
   "source": [
    "import numpy as np\n",
    "import pandas as pd\n",
    "import matplotlib.pyplot as plt\n",
    "\n",
    "import os\n",
    "os.environ[\"KERAS_BACKEND\"] = \"tensorflow\" \n",
    "import tensorflow\n",
    "import keras\n",
    "from tensorflow.keras.layers import Input, Dense, Lambda, Layer, Add, Multiply\n",
    "from tensorflow.keras.models import Model, Sequential\n",
    "from keras.objectives import binary_crossentropy\n",
    "from tensorflow.keras.callbacks import LearningRateScheduler\n",
    "from tensorflow.keras.callbacks import EarlyStopping, ModelCheckpoint\n",
    "import tensorflow.keras.backend as K\n",
    "import random\n",
    "import scipy\n",
    "from scipy.stats import norm\n",
    "from scipy.stats import multivariate_normal\n",
    "import sklearn\n",
    "from sklearn import model_selection\n",
    "from tensorflow.keras.optimizers import SGD, Adam, Adamax"
   ]
  },
  {
   "cell_type": "code",
   "execution_count": null,
   "metadata": {},
   "outputs": [],
   "source": [
    "%pip install --user keras==2.2.5"
   ]
  },
  {
   "cell_type": "code",
   "execution_count": 4,
   "metadata": {},
   "outputs": [
    {
     "name": "stdout",
     "output_type": "stream",
     "text": [
      "   Unnamed: 0  jet_1_pt   jet_2_pt   jet_1_e   jet_2_e   delta_phi  \\\n",
      "0         489  1.064990   0.354724  1.195620  0.617188    0.890958   \n",
      "1          58  0.713328   0.406958  0.628125  0.608437    1.116200   \n",
      "2         119  0.604246   0.460719  0.721875  0.459062    0.979828   \n",
      "3         466  6.577490   5.563100  5.565000  4.565000    0.968476   \n",
      "4          19  0.535902   0.429245  0.499375  0.394062    0.724647   \n",
      "\n",
      "    delta_eta   centrality   multiplicity_1   multiplicity_2  \\\n",
      "0    0.664917        0.525             0.27             0.34   \n",
      "1   -0.188610        1.990             0.23             0.17   \n",
      "2    0.026245        1.990             0.11             0.17   \n",
      "3   -0.161133        0.475             0.42             0.28   \n",
      "4    0.166023        1.990             0.08             0.09   \n",
      "\n",
      "    collision_system  \n",
      "0                  1  \n",
      "1                  0  \n",
      "2                  0  \n",
      "3                  1  \n",
      "4                  0  \n"
     ]
    },
    {
     "data": {
      "text/plain": [
       "Index([' collision_system'], dtype='object')"
      ]
     },
     "execution_count": 4,
     "metadata": {},
     "output_type": "execute_result"
    }
   ],
   "source": [
    "#read data\n",
    "X = pd.read_csv(\"Aug22.csv\")\n",
    "print(X.head())\n",
    "outcome_vars = X.columns[10:]\n",
    "outcome_vars"
   ]
  },
  {
   "cell_type": "code",
   "execution_count": 3,
   "metadata": {},
   "outputs": [],
   "source": [
    "X = pd.read_csv('newvariables.csv')\n",
    "ds = X.sample(frac=1)\n",
    "ds.to_csv('Aug22.csv')"
   ]
  },
  {
   "cell_type": "code",
   "execution_count": 5,
   "metadata": {},
   "outputs": [
    {
     "name": "stdout",
     "output_type": "stream",
     "text": [
      "   jet_1_pt   jet_2_pt   jet_1_e   jet_2_e   delta_phi   delta_eta  \\\n",
      "0  1.064990   0.354724  1.195620  0.617188    0.890958    0.664917   \n",
      "1  0.713328   0.406958  0.628125  0.608437    1.116200   -0.188610   \n",
      "2  0.604246   0.460719  0.721875  0.459062    0.979828    0.026245   \n",
      "3  6.577490   5.563100  5.565000  4.565000    0.968476   -0.161133   \n",
      "4  0.535902   0.429245  0.499375  0.394062    0.724647    0.166023   \n",
      "\n",
      "    centrality   multiplicity_1   multiplicity_2  \n",
      "0        0.525             0.27             0.34  \n",
      "1        1.990             0.23             0.17  \n",
      "2        1.990             0.11             0.17  \n",
      "3        0.475             0.42             0.28  \n",
      "4        1.990             0.08             0.09  \n"
     ]
    },
    {
     "data": {
      "text/plain": [
       "(497, 9)"
      ]
     },
     "execution_count": 5,
     "metadata": {},
     "output_type": "execute_result"
    }
   ],
   "source": [
    "X.drop(X.columns[[0]], axis = 1, inplace = True) \n",
    "\n",
    "Y_train= X[outcome_vars]\n",
    "X_train = X.drop(list(outcome_vars), axis=1)\n",
    "print(X_train.head())\n",
    "X_train = np.array(X_train)\n",
    "Y_train = np.array(Y_train)\n",
    "X_train.shape\n",
    "#Y_train.shape\n"
   ]
  },
  {
   "cell_type": "code",
   "execution_count": null,
   "metadata": {},
   "outputs": [],
   "source": []
  },
  {
   "cell_type": "code",
   "execution_count": 6,
   "metadata": {},
   "outputs": [],
   "source": [
    "def evaluate_vae_model(X_train, latent_dimensions, intermediate_dimensions):\n",
    "    \n",
    "    \n",
    "    intermediate_dim = intermediate_dimensions\n",
    "    latent_dim = latent_dimensions\n",
    "    \n",
    "   \n",
    "    original_dim = X_train.shape[1]\n",
    "    batch_size = 16\n",
    "    n_epochs = 100\n",
    "    \n",
    "    # The Encoder, from the original data to the latent dimensions\n",
    "    inputs = Input(shape=(original_dim,))\n",
    "    \n",
    "    hidden = Dense(intermediate_dim, activation='relu')(inputs)\n",
    "    hidden2 = Dense(intermediate_dim, activation='sigmoid')(hidden)\n",
    "    z_mean = Dense(latent_dim, activation='linear')(hidden2)\n",
    "    z_sigma = Dense(latent_dim,activation='linear')(hidden2)\n",
    "    \n",
    "    # The sampler\n",
    "    def sample_z(args):\n",
    "        z_mean, z_sigma = args\n",
    "        eps = K.random_normal(shape=(K.shape(inputs)[0],latent_dim), mean=0., stddev=1.)\n",
    "        return z_mean + K.exp(z_sigma / 2) * eps \n",
    "\n",
    "    z = Lambda(sample_z, output_shape=(latent_dim,))([z_mean, z_sigma])\n",
    "    encoder = Model(inputs, z_mean)\n",
    "    \n",
    "    # The Decoder\n",
    "    decoder_hidden = Dense(intermediate_dim, activation='relu') \n",
    "    decoder_mean = Dense(original_dim, activation='linear')  \n",
    "    decoder_sigma = Dense(original_dim, activation='linear')\n",
    "\n",
    "\n",
    "    hidden_output = decoder_hidden(z)\n",
    "    output_decoded_mean = decoder_mean(hidden_output) \n",
    "    output_decoded_sigma = decoder_sigma(hidden_output) \n",
    "\n",
    "    decoder = Model(inputs, output_decoded_mean)\n",
    "    \n",
    "    \n",
    "    \n",
    "    predictor_input = Input(shape=(latent_dim,))\n",
    "\n",
    "    predictor_decoded = decoder_hidden(predictor_input)\n",
    "    predictor_output_mean = decoder_mean(predictor_decoded)\n",
    "    predictor_output_sigma = decoder_sigma(predictor_decoded)\n",
    "\n",
    "    predictor = Model(predictor_input, predictor_output_mean)\n",
    "    \n",
    "    \n",
    "    def vae_loss(y_true, y_pred):\n",
    "        reconstruction_loss = neg_log_likelihood(y_true, y_pred)\n",
    "        kl_loss = KL_divergence_loss(y_true, y_pred)\n",
    "        return reconstruction_loss + kl_loss\n",
    "\n",
    "    def neg_log_likelihood(y_true, y_pred):\n",
    "        negative_log_likelihood = (1./2.) * \\\n",
    "                        (\n",
    "                            K.int_shape(inputs)[1] * K.log(2. * np.pi) + \\\n",
    "                            K.sum(output_decoded_sigma, axis=-1, keepdims=True) + \\\n",
    "                            K.sum(\n",
    "                                K.square(y_true - y_pred) * (1. / K.exp(output_decoded_sigma)), \n",
    "                                axis=-1, keepdims=True\n",
    "                            )\n",
    "                        )\n",
    "        return negative_log_likelihood\n",
    "\n",
    "    \n",
    "    def KL_divergence_loss(y_true, y_pred):\n",
    "        \"\"\" Calculate the KL Divergence portion of the loss, i.e. D_KL(Q(z|X) || P(z|X)) \"\"\"\n",
    "        return 0.5 * K.sum(K.exp(z_sigma) + K.square(z_mean) - 1. - z_sigma, axis=-1)\n",
    "    \n",
    "    \n",
    "    \n",
    "    def squared_difference_loss(y_true, y_pred):\n",
    "        \"\"\" Calculate a naive reconstruction loss, i.e. ||y_true - y_pred||^2 \"\"\"\n",
    "        return K.sum(K.square(y_true - y_pred), axis=-1)\n",
    "\n",
    "    decoder.compile(optimizer=Adam(lr=0.0001), \n",
    "                loss=vae_loss, \n",
    "                metrics=[ squared_difference_loss,\n",
    "                         KL_divergence_loss, \n",
    "                         neg_log_likelihood, \n",
    "                        ] \n",
    "            \n",
    "               )\n",
    "\n",
    "    #early stopping callback criterion so that we don't overfit\n",
    "    earlystop = keras.callbacks.EarlyStopping(monitor='val_loss',  \n",
    "                                             min_delta=0.0001,  \n",
    "                                             patience=10, \n",
    "                                             verbose=0,\n",
    "                                             mode='min') \n",
    "    \n",
    "    #checkpointer = keras.callbacks.ModelCheckpoint(filepath=\"weights_filter_test.hdf5\", verbose=1, save_best_only=False)\n",
    "    \n",
    "    callbacks_list = [earlystop]\n",
    "    \n",
    "    history = decoder.fit(X_train,\n",
    "                      X_train,\n",
    "                      shuffle=True,\n",
    "                      epochs=n_epochs,\n",
    "                      verbose=1,\n",
    "                      batch_size=batch_size,\n",
    "                      callbacks=callbacks_list,\n",
    "                      #validation_split=0.3\n",
    "                      )\n",
    "    \n",
    "    \n",
    "    \n",
    "    decoder.save_weights(\"decoder_relu_deep6.h5\")\n",
    "    encoder.save_weights(\"encoder_relu_deep6.h5\")\n",
    "    predictor.save_weights(\"predictor_relu_deep6.h5\")\n",
    "    \n",
    "    return encoder, predictor, decoder, history\n",
    "    "
   ]
  },
  {
   "cell_type": "code",
   "execution_count": 7,
   "metadata": {},
   "outputs": [
    {
     "name": "stdout",
     "output_type": "stream",
     "text": [
      "WARNING:tensorflow:From /usr/common/software/tensorflow/intel-tensorflow/1.15.0-py37/lib/python3.7/site-packages/tensorflow_core/python/ops/resource_variable_ops.py:1630: calling BaseResourceVariable.__init__ (from tensorflow.python.ops.resource_variable_ops) with constraint is deprecated and will be removed in a future version.\n",
      "Instructions for updating:\n",
      "If using Keras pass *_constraint arguments to layers.\n",
      "Train on 497 samples\n",
      "WARNING:tensorflow:OMP_NUM_THREADS is no longer used by the default Keras config. To configure the number of threads, use tf.config.threading APIs.\n",
      "Epoch 1/100\n",
      "497/497 [==============================] - 1s 1ms/sample - loss: 13.6270 - squared_difference_loss: 7.4746 - KL_divergence_loss: 0.4584 - neg_log_likelihood: 13.1686\n",
      "Epoch 2/100\n",
      "497/497 [==============================] - 0s 124us/sample - loss: 13.3901 - squared_difference_loss: 7.2880 - KL_divergence_loss: 0.4439 - neg_log_likelihood: 12.9462\n",
      "Epoch 3/100\n",
      "497/497 [==============================] - 0s 98us/sample - loss: 13.5715 - squared_difference_loss: 7.3127 - KL_divergence_loss: 0.4314 - neg_log_likelihood: 13.1401\n",
      "Epoch 4/100\n",
      "497/497 [==============================] - 0s 97us/sample - loss: 12.8713 - squared_difference_loss: 6.8741 - KL_divergence_loss: 0.4196 - neg_log_likelihood: 12.4518\n",
      "Epoch 5/100\n",
      " 16/497 [..............................] - ETA: 0s - loss: 12.1097 - squared_difference_loss: 5.6490 - KL_divergence_loss: 0.4149 - neg_log_likelihood: 11.6948"
     ]
    },
    {
     "name": "stderr",
     "output_type": "stream",
     "text": [
      "/global/homes/s/stuti/.local/cori/intel-tensorflow1.15.0-py37/lib/python3.7/site-packages/keras/callbacks.py:842: RuntimeWarning: Early stopping conditioned on metric `val_loss` which is not available. Available metrics are: loss,squared_difference_loss,KL_divergence_loss,neg_log_likelihood\n",
      "  (self.monitor, ','.join(list(logs.keys()))), RuntimeWarning\n"
     ]
    },
    {
     "name": "stdout",
     "output_type": "stream",
     "text": [
      "497/497 [==============================] - 0s 102us/sample - loss: 13.0230 - squared_difference_loss: 6.9085 - KL_divergence_loss: 0.4089 - neg_log_likelihood: 12.6141\n",
      "Epoch 6/100\n",
      "497/497 [==============================] - 0s 101us/sample - loss: 12.6060 - squared_difference_loss: 6.6006 - KL_divergence_loss: 0.3990 - neg_log_likelihood: 12.2069\n",
      "Epoch 7/100\n",
      "497/497 [==============================] - 0s 101us/sample - loss: 12.2327 - squared_difference_loss: 6.3151 - KL_divergence_loss: 0.3902 - neg_log_likelihood: 11.8425\n",
      "Epoch 8/100\n",
      "497/497 [==============================] - 0s 100us/sample - loss: 12.1689 - squared_difference_loss: 6.2190 - KL_divergence_loss: 0.3823 - neg_log_likelihood: 11.7866\n",
      "Epoch 9/100\n",
      "497/497 [==============================] - 0s 100us/sample - loss: 12.1551 - squared_difference_loss: 6.1928 - KL_divergence_loss: 0.3738 - neg_log_likelihood: 11.7813\n",
      "Epoch 10/100\n",
      "497/497 [==============================] - 0s 101us/sample - loss: 11.9805 - squared_difference_loss: 6.0302 - KL_divergence_loss: 0.3664 - neg_log_likelihood: 11.6141\n",
      "Epoch 11/100\n",
      "497/497 [==============================] - 0s 98us/sample - loss: 11.9325 - squared_difference_loss: 5.9165 - KL_divergence_loss: 0.3602 - neg_log_likelihood: 11.5723\n",
      "Epoch 12/100\n",
      "497/497 [==============================] - 0s 101us/sample - loss: 11.6110 - squared_difference_loss: 5.6238 - KL_divergence_loss: 0.3539 - neg_log_likelihood: 11.2571\n",
      "Epoch 13/100\n",
      "497/497 [==============================] - 0s 99us/sample - loss: 11.5410 - squared_difference_loss: 5.5773 - KL_divergence_loss: 0.3479 - neg_log_likelihood: 11.1931\n",
      "Epoch 14/100\n",
      "497/497 [==============================] - 0s 98us/sample - loss: 11.5053 - squared_difference_loss: 5.4872 - KL_divergence_loss: 0.3420 - neg_log_likelihood: 11.1633\n",
      "Epoch 15/100\n",
      "497/497 [==============================] - 0s 120us/sample - loss: 11.4698 - squared_difference_loss: 5.4796 - KL_divergence_loss: 0.3366 - neg_log_likelihood: 11.1332\n",
      "Epoch 16/100\n",
      "497/497 [==============================] - 0s 97us/sample - loss: 11.3216 - squared_difference_loss: 5.3139 - KL_divergence_loss: 0.3322 - neg_log_likelihood: 10.9894\n",
      "Epoch 17/100\n",
      "497/497 [==============================] - 0s 98us/sample - loss: 11.3019 - squared_difference_loss: 5.2198 - KL_divergence_loss: 0.3279 - neg_log_likelihood: 10.9740\n",
      "Epoch 18/100\n",
      "497/497 [==============================] - 0s 99us/sample - loss: 11.2208 - squared_difference_loss: 5.1897 - KL_divergence_loss: 0.3233 - neg_log_likelihood: 10.8974\n",
      "Epoch 19/100\n",
      "497/497 [==============================] - 0s 100us/sample - loss: 11.1212 - squared_difference_loss: 5.1230 - KL_divergence_loss: 0.3195 - neg_log_likelihood: 10.8017\n",
      "Epoch 20/100\n",
      "497/497 [==============================] - 0s 115us/sample - loss: 11.1002 - squared_difference_loss: 5.0201 - KL_divergence_loss: 0.3163 - neg_log_likelihood: 10.7838\n",
      "Epoch 21/100\n",
      "497/497 [==============================] - 0s 96us/sample - loss: 11.0471 - squared_difference_loss: 4.9562 - KL_divergence_loss: 0.3128 - neg_log_likelihood: 10.7343\n",
      "Epoch 22/100\n",
      "497/497 [==============================] - 0s 99us/sample - loss: 11.0165 - squared_difference_loss: 4.9122 - KL_divergence_loss: 0.3100 - neg_log_likelihood: 10.7065\n",
      "Epoch 23/100\n",
      "497/497 [==============================] - 0s 96us/sample - loss: 10.9500 - squared_difference_loss: 4.9048 - KL_divergence_loss: 0.3073 - neg_log_likelihood: 10.6427\n",
      "Epoch 24/100\n",
      "497/497 [==============================] - 0s 97us/sample - loss: 10.7918 - squared_difference_loss: 4.6427 - KL_divergence_loss: 0.3050 - neg_log_likelihood: 10.4868\n",
      "Epoch 25/100\n",
      "497/497 [==============================] - 0s 100us/sample - loss: 10.7763 - squared_difference_loss: 4.6577 - KL_divergence_loss: 0.3030 - neg_log_likelihood: 10.4733\n",
      "Epoch 26/100\n",
      "497/497 [==============================] - 0s 97us/sample - loss: 10.7394 - squared_difference_loss: 4.5324 - KL_divergence_loss: 0.3004 - neg_log_likelihood: 10.4390\n",
      "Epoch 27/100\n",
      "497/497 [==============================] - 0s 98us/sample - loss: 10.6616 - squared_difference_loss: 4.5040 - KL_divergence_loss: 0.2985 - neg_log_likelihood: 10.3631\n",
      "Epoch 28/100\n",
      "497/497 [==============================] - 0s 97us/sample - loss: 10.6506 - squared_difference_loss: 4.4357 - KL_divergence_loss: 0.2965 - neg_log_likelihood: 10.3541\n",
      "Epoch 29/100\n",
      "497/497 [==============================] - 0s 98us/sample - loss: 10.5342 - squared_difference_loss: 4.2890 - KL_divergence_loss: 0.2951 - neg_log_likelihood: 10.2391\n",
      "Epoch 30/100\n",
      "497/497 [==============================] - 0s 97us/sample - loss: 10.4942 - squared_difference_loss: 4.2364 - KL_divergence_loss: 0.2939 - neg_log_likelihood: 10.2003\n",
      "Epoch 31/100\n",
      "497/497 [==============================] - 0s 104us/sample - loss: 10.4903 - squared_difference_loss: 4.2423 - KL_divergence_loss: 0.2923 - neg_log_likelihood: 10.1980\n",
      "Epoch 32/100\n",
      "497/497 [==============================] - 0s 96us/sample - loss: 10.4533 - squared_difference_loss: 4.1817 - KL_divergence_loss: 0.2914 - neg_log_likelihood: 10.1619\n",
      "Epoch 33/100\n",
      "497/497 [==============================] - 0s 100us/sample - loss: 10.4461 - squared_difference_loss: 4.2150 - KL_divergence_loss: 0.2905 - neg_log_likelihood: 10.1556\n",
      "Epoch 34/100\n",
      "497/497 [==============================] - 0s 104us/sample - loss: 10.4174 - squared_difference_loss: 4.1209 - KL_divergence_loss: 0.2898 - neg_log_likelihood: 10.1275\n",
      "Epoch 35/100\n",
      "497/497 [==============================] - 0s 100us/sample - loss: 10.2445 - squared_difference_loss: 3.9465 - KL_divergence_loss: 0.2897 - neg_log_likelihood: 9.9548\n",
      "Epoch 36/100\n",
      "497/497 [==============================] - 0s 99us/sample - loss: 10.3542 - squared_difference_loss: 4.0896 - KL_divergence_loss: 0.2893 - neg_log_likelihood: 10.0650\n",
      "Epoch 37/100\n",
      "497/497 [==============================] - 0s 101us/sample - loss: 10.1407 - squared_difference_loss: 3.7636 - KL_divergence_loss: 0.2887 - neg_log_likelihood: 9.8519\n",
      "Epoch 38/100\n",
      "497/497 [==============================] - 0s 117us/sample - loss: 10.1731 - squared_difference_loss: 3.7915 - KL_divergence_loss: 0.2889 - neg_log_likelihood: 9.8842\n",
      "Epoch 39/100\n",
      "497/497 [==============================] - 0s 99us/sample - loss: 10.2136 - squared_difference_loss: 3.8364 - KL_divergence_loss: 0.2890 - neg_log_likelihood: 9.9246\n",
      "Epoch 40/100\n",
      "497/497 [==============================] - 0s 98us/sample - loss: 10.1130 - squared_difference_loss: 3.7011 - KL_divergence_loss: 0.2893 - neg_log_likelihood: 9.8237\n",
      "Epoch 41/100\n",
      "497/497 [==============================] - 0s 98us/sample - loss: 10.1269 - squared_difference_loss: 3.7289 - KL_divergence_loss: 0.2895 - neg_log_likelihood: 9.8373\n",
      "Epoch 42/100\n",
      "497/497 [==============================] - 0s 101us/sample - loss: 10.1055 - squared_difference_loss: 3.7363 - KL_divergence_loss: 0.2900 - neg_log_likelihood: 9.8156\n",
      "Epoch 43/100\n",
      "497/497 [==============================] - 0s 100us/sample - loss: 10.0493 - squared_difference_loss: 3.6195 - KL_divergence_loss: 0.2905 - neg_log_likelihood: 9.7588\n",
      "Epoch 44/100\n",
      "497/497 [==============================] - 0s 100us/sample - loss: 9.9411 - squared_difference_loss: 3.4472 - KL_divergence_loss: 0.2919 - neg_log_likelihood: 9.6492\n",
      "Epoch 45/100\n",
      "497/497 [==============================] - 0s 212us/sample - loss: 9.9375 - squared_difference_loss: 3.4430 - KL_divergence_loss: 0.2933 - neg_log_likelihood: 9.6443\n",
      "Epoch 46/100\n",
      "497/497 [==============================] - 0s 122us/sample - loss: 10.0373 - squared_difference_loss: 3.5952 - KL_divergence_loss: 0.2943 - neg_log_likelihood: 9.7430\n",
      "Epoch 47/100\n",
      "497/497 [==============================] - 0s 141us/sample - loss: 9.9360 - squared_difference_loss: 3.4682 - KL_divergence_loss: 0.2959 - neg_log_likelihood: 9.6400\n",
      "Epoch 48/100\n",
      "497/497 [==============================] - 0s 112us/sample - loss: 9.8670 - squared_difference_loss: 3.3617 - KL_divergence_loss: 0.2978 - neg_log_likelihood: 9.5692\n",
      "Epoch 49/100\n",
      "497/497 [==============================] - 0s 105us/sample - loss: 9.8358 - squared_difference_loss: 3.3156 - KL_divergence_loss: 0.2992 - neg_log_likelihood: 9.5366\n",
      "Epoch 50/100\n",
      "497/497 [==============================] - 0s 106us/sample - loss: 9.8116 - squared_difference_loss: 3.3196 - KL_divergence_loss: 0.3007 - neg_log_likelihood: 9.5110\n",
      "Epoch 51/100\n",
      "497/497 [==============================] - 0s 112us/sample - loss: 9.8343 - squared_difference_loss: 3.3303 - KL_divergence_loss: 0.3024 - neg_log_likelihood: 9.5318\n",
      "Epoch 52/100\n",
      "497/497 [==============================] - 0s 113us/sample - loss: 9.8138 - squared_difference_loss: 3.3141 - KL_divergence_loss: 0.3050 - neg_log_likelihood: 9.5088\n",
      "Epoch 53/100\n",
      "497/497 [==============================] - 0s 112us/sample - loss: 9.7572 - squared_difference_loss: 3.2333 - KL_divergence_loss: 0.3076 - neg_log_likelihood: 9.4495\n",
      "Epoch 54/100\n",
      "497/497 [==============================] - 0s 100us/sample - loss: 9.7102 - squared_difference_loss: 3.1635 - KL_divergence_loss: 0.3095 - neg_log_likelihood: 9.4007\n",
      "Epoch 55/100\n",
      "497/497 [==============================] - 0s 125us/sample - loss: 9.7532 - squared_difference_loss: 3.1702 - KL_divergence_loss: 0.3124 - neg_log_likelihood: 9.4408\n",
      "Epoch 56/100\n",
      "497/497 [==============================] - 0s 124us/sample - loss: 9.7313 - squared_difference_loss: 3.2029 - KL_divergence_loss: 0.3160 - neg_log_likelihood: 9.4153\n",
      "Epoch 57/100\n",
      "497/497 [==============================] - 0s 128us/sample - loss: 9.6802 - squared_difference_loss: 3.0817 - KL_divergence_loss: 0.3187 - neg_log_likelihood: 9.3615\n",
      "Epoch 58/100\n",
      "497/497 [==============================] - 0s 135us/sample - loss: 9.5925 - squared_difference_loss: 2.9380 - KL_divergence_loss: 0.3213 - neg_log_likelihood: 9.2711\n",
      "Epoch 59/100\n",
      "497/497 [==============================] - 0s 133us/sample - loss: 9.6603 - squared_difference_loss: 3.0227 - KL_divergence_loss: 0.3246 - neg_log_likelihood: 9.3356\n",
      "Epoch 60/100\n",
      "497/497 [==============================] - 0s 114us/sample - loss: 9.6757 - squared_difference_loss: 3.1198 - KL_divergence_loss: 0.3289 - neg_log_likelihood: 9.3468\n",
      "Epoch 61/100\n",
      "497/497 [==============================] - 0s 107us/sample - loss: 9.5497 - squared_difference_loss: 2.9016 - KL_divergence_loss: 0.3324 - neg_log_likelihood: 9.2173\n",
      "Epoch 62/100\n",
      "497/497 [==============================] - 0s 104us/sample - loss: 9.5636 - squared_difference_loss: 2.9285 - KL_divergence_loss: 0.3339 - neg_log_likelihood: 9.2297\n",
      "Epoch 63/100\n",
      "497/497 [==============================] - 0s 113us/sample - loss: 9.5499 - squared_difference_loss: 2.8983 - KL_divergence_loss: 0.3373 - neg_log_likelihood: 9.2125\n",
      "Epoch 64/100\n",
      "497/497 [==============================] - 0s 105us/sample - loss: 9.5156 - squared_difference_loss: 2.9186 - KL_divergence_loss: 0.3401 - neg_log_likelihood: 9.1756\n",
      "Epoch 65/100\n",
      "497/497 [==============================] - 0s 99us/sample - loss: 9.4714 - squared_difference_loss: 2.8157 - KL_divergence_loss: 0.3416 - neg_log_likelihood: 9.1297\n",
      "Epoch 66/100\n",
      "497/497 [==============================] - 0s 98us/sample - loss: 9.4392 - squared_difference_loss: 2.8232 - KL_divergence_loss: 0.3428 - neg_log_likelihood: 9.0964\n",
      "Epoch 67/100\n",
      "497/497 [==============================] - 0s 98us/sample - loss: 9.5055 - squared_difference_loss: 2.8741 - KL_divergence_loss: 0.3443 - neg_log_likelihood: 9.1612\n",
      "Epoch 68/100\n",
      "497/497 [==============================] - 0s 98us/sample - loss: 9.4781 - squared_difference_loss: 2.8473 - KL_divergence_loss: 0.3478 - neg_log_likelihood: 9.1303\n",
      "Epoch 69/100\n",
      "497/497 [==============================] - 0s 97us/sample - loss: 9.4885 - squared_difference_loss: 2.7940 - KL_divergence_loss: 0.3515 - neg_log_likelihood: 9.1371\n",
      "Epoch 70/100\n",
      "497/497 [==============================] - 0s 102us/sample - loss: 9.4546 - squared_difference_loss: 2.8066 - KL_divergence_loss: 0.3538 - neg_log_likelihood: 9.1008\n",
      "Epoch 71/100\n",
      "497/497 [==============================] - 0s 103us/sample - loss: 9.4838 - squared_difference_loss: 2.8826 - KL_divergence_loss: 0.3573 - neg_log_likelihood: 9.1265\n",
      "Epoch 72/100\n",
      "497/497 [==============================] - 0s 100us/sample - loss: 9.5158 - squared_difference_loss: 2.9051 - KL_divergence_loss: 0.3599 - neg_log_likelihood: 9.1559\n",
      "Epoch 73/100\n",
      "497/497 [==============================] - 0s 113us/sample - loss: 9.3679 - squared_difference_loss: 2.6161 - KL_divergence_loss: 0.3634 - neg_log_likelihood: 9.0045\n",
      "Epoch 74/100\n",
      "497/497 [==============================] - 0s 102us/sample - loss: 9.3714 - squared_difference_loss: 2.6646 - KL_divergence_loss: 0.3666 - neg_log_likelihood: 9.0048\n",
      "Epoch 75/100\n",
      "497/497 [==============================] - 0s 103us/sample - loss: 9.4425 - squared_difference_loss: 2.7895 - KL_divergence_loss: 0.3691 - neg_log_likelihood: 9.0734\n",
      "Epoch 76/100\n",
      "497/497 [==============================] - 0s 104us/sample - loss: 9.3726 - squared_difference_loss: 2.6386 - KL_divergence_loss: 0.3724 - neg_log_likelihood: 9.0002\n",
      "Epoch 77/100\n",
      "497/497 [==============================] - 0s 106us/sample - loss: 9.3785 - squared_difference_loss: 2.7225 - KL_divergence_loss: 0.3751 - neg_log_likelihood: 9.0034\n",
      "Epoch 78/100\n",
      "497/497 [==============================] - 0s 106us/sample - loss: 9.3909 - squared_difference_loss: 2.7431 - KL_divergence_loss: 0.3775 - neg_log_likelihood: 9.0135\n",
      "Epoch 79/100\n",
      "497/497 [==============================] - 0s 109us/sample - loss: 9.2869 - squared_difference_loss: 2.6675 - KL_divergence_loss: 0.3807 - neg_log_likelihood: 8.9062\n",
      "Epoch 80/100\n",
      "497/497 [==============================] - 0s 106us/sample - loss: 9.4017 - squared_difference_loss: 2.6856 - KL_divergence_loss: 0.3833 - neg_log_likelihood: 9.0185\n",
      "Epoch 81/100\n",
      "497/497 [==============================] - 0s 105us/sample - loss: 9.2846 - squared_difference_loss: 2.6127 - KL_divergence_loss: 0.3864 - neg_log_likelihood: 8.8982\n",
      "Epoch 82/100\n",
      "497/497 [==============================] - 0s 112us/sample - loss: 9.3153 - squared_difference_loss: 2.6796 - KL_divergence_loss: 0.3890 - neg_log_likelihood: 8.9263\n",
      "Epoch 83/100\n",
      "497/497 [==============================] - 0s 103us/sample - loss: 9.3074 - squared_difference_loss: 2.6525 - KL_divergence_loss: 0.3895 - neg_log_likelihood: 8.9178\n",
      "Epoch 84/100\n",
      "497/497 [==============================] - 0s 109us/sample - loss: 9.3140 - squared_difference_loss: 2.6239 - KL_divergence_loss: 0.3914 - neg_log_likelihood: 8.9226\n",
      "Epoch 85/100\n",
      "497/497 [==============================] - 0s 101us/sample - loss: 9.2725 - squared_difference_loss: 2.6100 - KL_divergence_loss: 0.3944 - neg_log_likelihood: 8.8781\n",
      "Epoch 86/100\n",
      "497/497 [==============================] - 0s 100us/sample - loss: 9.1973 - squared_difference_loss: 2.4648 - KL_divergence_loss: 0.3963 - neg_log_likelihood: 8.8010\n",
      "Epoch 87/100\n",
      "497/497 [==============================] - 0s 100us/sample - loss: 9.3235 - squared_difference_loss: 2.6741 - KL_divergence_loss: 0.3988 - neg_log_likelihood: 8.9248\n",
      "Epoch 88/100\n",
      "497/497 [==============================] - 0s 100us/sample - loss: 9.2528 - squared_difference_loss: 2.5607 - KL_divergence_loss: 0.4014 - neg_log_likelihood: 8.8514\n",
      "Epoch 89/100\n",
      "497/497 [==============================] - 0s 100us/sample - loss: 9.2751 - squared_difference_loss: 2.5993 - KL_divergence_loss: 0.4040 - neg_log_likelihood: 8.8711\n",
      "Epoch 90/100\n",
      "497/497 [==============================] - 0s 101us/sample - loss: 9.2324 - squared_difference_loss: 2.5674 - KL_divergence_loss: 0.4039 - neg_log_likelihood: 8.8286\n",
      "Epoch 91/100\n",
      "497/497 [==============================] - 0s 117us/sample - loss: 9.2157 - squared_difference_loss: 2.5103 - KL_divergence_loss: 0.4046 - neg_log_likelihood: 8.8110\n",
      "Epoch 92/100\n",
      "497/497 [==============================] - 0s 99us/sample - loss: 9.2587 - squared_difference_loss: 2.6001 - KL_divergence_loss: 0.4083 - neg_log_likelihood: 8.8505\n",
      "Epoch 93/100\n",
      "497/497 [==============================] - 0s 98us/sample - loss: 9.2391 - squared_difference_loss: 2.5757 - KL_divergence_loss: 0.4126 - neg_log_likelihood: 8.8265\n",
      "Epoch 94/100\n",
      "497/497 [==============================] - 0s 98us/sample - loss: 9.2072 - squared_difference_loss: 2.5261 - KL_divergence_loss: 0.4145 - neg_log_likelihood: 8.7926\n",
      "Epoch 95/100\n",
      "497/497 [==============================] - 0s 232us/sample - loss: 9.1158 - squared_difference_loss: 2.4187 - KL_divergence_loss: 0.4164 - neg_log_likelihood: 8.6994\n",
      "Epoch 96/100\n",
      "497/497 [==============================] - 0s 96us/sample - loss: 9.2126 - squared_difference_loss: 2.5673 - KL_divergence_loss: 0.4190 - neg_log_likelihood: 8.7936\n",
      "Epoch 97/100\n",
      "497/497 [==============================] - 0s 96us/sample - loss: 9.1498 - squared_difference_loss: 2.4830 - KL_divergence_loss: 0.4215 - neg_log_likelihood: 8.7282\n",
      "Epoch 98/100\n",
      "497/497 [==============================] - 0s 98us/sample - loss: 9.1148 - squared_difference_loss: 2.3926 - KL_divergence_loss: 0.4247 - neg_log_likelihood: 8.6901\n",
      "Epoch 99/100\n",
      "497/497 [==============================] - 0s 99us/sample - loss: 9.1253 - squared_difference_loss: 2.4037 - KL_divergence_loss: 0.4266 - neg_log_likelihood: 8.6987\n",
      "Epoch 100/100\n",
      "497/497 [==============================] - 0s 97us/sample - loss: 9.1783 - squared_difference_loss: 2.5438 - KL_divergence_loss: 0.4280 - neg_log_likelihood: 8.7503\n"
     ]
    }
   ],
   "source": [
    "n_z = 2\n",
    "n_h = 6\n",
    "encoder, predictor, decoder, history = evaluate_vae_model(X_train, n_z, n_h)"
   ]
  },
  {
   "cell_type": "code",
   "execution_count": 20,
   "metadata": {},
   "outputs": [
    {
     "ename": "NameError",
     "evalue": "name 'Y_test' is not defined",
     "output_type": "error",
     "traceback": [
      "\u001b[0;31m---------------------------------------------------------------------------\u001b[0m",
      "\u001b[0;31mNameError\u001b[0m                                 Traceback (most recent call last)",
      "\u001b[0;32m<ipython-input-20-14d9f6227ed2>\u001b[0m in \u001b[0;36m<module>\u001b[0;34m\u001b[0m\n\u001b[0;32m----> 1\u001b[0;31m \u001b[0mY_test\u001b[0m\u001b[0;34m.\u001b[0m\u001b[0mcolumns\u001b[0m\u001b[0;34m.\u001b[0m\u001b[0mvalues\u001b[0m\u001b[0;34m\u001b[0m\u001b[0;34m\u001b[0m\u001b[0m\n\u001b[0m",
      "\u001b[0;31mNameError\u001b[0m: name 'Y_test' is not defined"
     ]
    }
   ],
   "source": [
    "Y_test.columns.values"
   ]
  },
  {
   "cell_type": "code",
   "execution_count": 54,
   "metadata": {},
   "outputs": [
    {
     "data": {
      "text/plain": [
       "Index([' collision_system'], dtype='object')"
      ]
     },
     "execution_count": 54,
     "metadata": {},
     "output_type": "execute_result"
    }
   ],
   "source": [
    "#read data\n",
    "Xt = pd.read_csv(\"Aug17-Copy1.csv\")\n",
    "outcome_vars = Xt.columns[9:]\n",
    "outcome_vars"
   ]
  },
  {
   "cell_type": "code",
   "execution_count": 55,
   "metadata": {},
   "outputs": [
    {
     "name": "stdout",
     "output_type": "stream",
     "text": [
      "<bound method NDFrame.head of      jet_1_pt   jet_2_pt       A_j   delta_phi   delta_eta   centrality  \\\n",
      "0    6.577490   5.563100  0.083554   -0.098984   -0.161133       0.4750   \n",
      "1    0.751327   0.373431  0.335980   -0.118310   -0.247925       1.9900   \n",
      "2    0.436217   0.349843  0.109882    0.238906    0.603027       1.9900   \n",
      "3    0.601918   0.353475  0.260043   -0.152390    0.333618       0.5750   \n",
      "4    1.372460   0.482996  0.479377   -0.126496   -0.123291       0.5950   \n",
      "..        ...        ...       ...         ...         ...          ...   \n",
      "474  0.503233   0.287203  0.273304   -0.333848   -0.512817       0.0345   \n",
      "475  1.132040   0.823685  0.157667    0.051467   -0.581299       0.2950   \n",
      "476  0.350724   0.319117  0.047186   -0.536240    0.123169       0.3250   \n",
      "477  0.627423   0.312654  0.334833    0.462539    0.038818       0.0425   \n",
      "478  0.564384   0.371088  0.206629    0.079238   -0.599609       0.0475   \n",
      "\n",
      "       frag_1    frag_2  \n",
      "0   -0.017790 -0.105311  \n",
      "1   -2.170210 -1.195630  \n",
      "2   -0.829979 -0.733337  \n",
      "3   -0.067434 -0.390539  \n",
      "4    0.018128 -0.150508  \n",
      "..        ...       ...  \n",
      "474 -0.697454 -0.410172  \n",
      "475 -0.570168 -0.177692  \n",
      "476 -0.397710 -0.572872  \n",
      "477 -0.414814 -0.852145  \n",
      "478 -0.758201 -0.553645  \n",
      "\n",
      "[479 rows x 8 columns]>\n"
     ]
    },
    {
     "data": {
      "text/plain": [
       "(479, 8)"
      ]
     },
     "execution_count": 55,
     "metadata": {},
     "output_type": "execute_result"
    }
   ],
   "source": [
    "Xt.drop(Xt.columns[[0]], axis = 1, inplace = True) \n",
    "\n",
    "Yt_train= Xt[outcome_vars]\n",
    "Xt_train = Xt.drop(list(outcome_vars), axis=1)\n",
    "print(Xt_train.head)\n",
    "Xt_train = np.array(Xt_train)\n",
    "Yt_train = np.array(Yt_train)\n",
    "Xt_train.shape\n",
    "#Y_train.shape"
   ]
  },
  {
   "cell_type": "code",
   "execution_count": 17,
   "metadata": {},
   "outputs": [],
   "source": [
    "encoder.load_weights(\"encoder.h5\")"
   ]
  },
  {
   "cell_type": "code",
   "execution_count": 30,
   "metadata": {},
   "outputs": [
    {
     "ename": "NameError",
     "evalue": "name 'Yt_train' is not defined",
     "output_type": "error",
     "traceback": [
      "\u001b[0;31m---------------------------------------------------------------------------\u001b[0m",
      "\u001b[0;31mNameError\u001b[0m                                 Traceback (most recent call last)",
      "\u001b[0;32m<ipython-input-30-33aaf80764b9>\u001b[0m in \u001b[0;36m<module>\u001b[0;34m\u001b[0m\n\u001b[1;32m      3\u001b[0m \u001b[0mYt_train_color\u001b[0m\u001b[0;34m=\u001b[0m\u001b[0;34m[\u001b[0m\u001b[0;34m]\u001b[0m\u001b[0;34m\u001b[0m\u001b[0;34m\u001b[0m\u001b[0m\n\u001b[1;32m      4\u001b[0m \u001b[0;34m\u001b[0m\u001b[0m\n\u001b[0;32m----> 5\u001b[0;31m \u001b[0;32mfor\u001b[0m \u001b[0mi\u001b[0m \u001b[0;32min\u001b[0m \u001b[0mrange\u001b[0m\u001b[0;34m(\u001b[0m\u001b[0mlen\u001b[0m\u001b[0;34m(\u001b[0m\u001b[0mYt_train\u001b[0m\u001b[0;34m)\u001b[0m\u001b[0;34m)\u001b[0m\u001b[0;34m:\u001b[0m\u001b[0;34m\u001b[0m\u001b[0;34m\u001b[0m\u001b[0m\n\u001b[0m\u001b[1;32m      6\u001b[0m     \u001b[0;32mif\u001b[0m \u001b[0mYt_train\u001b[0m\u001b[0;34m[\u001b[0m\u001b[0mi\u001b[0m\u001b[0;34m]\u001b[0m\u001b[0;34m==\u001b[0m\u001b[0;36m1\u001b[0m\u001b[0;34m:\u001b[0m\u001b[0;34m\u001b[0m\u001b[0;34m\u001b[0m\u001b[0m\n\u001b[1;32m      7\u001b[0m         \u001b[0mYt_train_color\u001b[0m\u001b[0;34m.\u001b[0m\u001b[0mappend\u001b[0m\u001b[0;34m(\u001b[0m\u001b[0;34m\"red\"\u001b[0m\u001b[0;34m)\u001b[0m\u001b[0;34m\u001b[0m\u001b[0;34m\u001b[0m\u001b[0m\n",
      "\u001b[0;31mNameError\u001b[0m: name 'Yt_train' is not defined"
     ]
    }
   ],
   "source": [
    "import matplotlib\n",
    "import matplotlib.pyplot as plt\n",
    "Yt_train_color=[]\n",
    "\n",
    "for i in range(len(Yt_train)):\n",
    "    if Yt_train[i]==1:\n",
    "        Yt_train_color.append(\"red\")\n",
    "    elif Yt_train[i]==0:\n",
    "        Yt_train_color.append(\"blue\")\n",
    "    else:\n",
    "        Yt_train_color.append(\"green\")\n",
    "#print(Y_train_color)\n",
    "z_mean = encoder.predict(Xt_train)\n",
    "plt.figure(figsize=(12, 10))\n",
    "plt.scatter(z_mean[:, 0], z_mean[:, 1] , c=Yt_train_color)\n",
    "\n",
    "plt.xlabel(\"z[0]\")\n",
    "plt.ylabel(\"z[1]\")\n",
    "plt.show()\n",
    "\n"
   ]
  },
  {
   "cell_type": "code",
   "execution_count": 43,
   "metadata": {},
   "outputs": [
    {
     "data": {
      "image/png": "[encoded data removed]",
      "text/plain": [
       "<Figure size 864x720 with 1 Axes>"
      ]
     },
     "metadata": {
      "needs_background": "light"
     },
     "output_type": "display_data"
    }
   ],
   "source": [
    "import matplotlib\n",
    "import matplotlib.pyplot as plt\n",
    "Y_train_color=[]\n",
    "\n",
    "for i in range(len(Y_train)):\n",
    "    if Y_train[i]==1:\n",
    "        Y_train_color.append(\"red\")\n",
    "    else:\n",
    "        Y_train_color.append(\"blue\")\n",
    "#print(Y_train_color)\n",
    "z_mean = encoder.predict(X_train)\n",
    "plt.figure(figsize=(12, 10))\n",
    "plt.scatter(z_mean[:, 0], z_mean[:, 1] , c=Y_train_color)\n",
    "\n",
    "plt.xlabel(\"z[0]\")\n",
    "plt.ylabel(\"z[1]\")\n",
    "plt.show()\n"
   ]
  },
  {
   "cell_type": "code",
   "execution_count": null,
   "metadata": {},
   "outputs": [],
   "source": [
    "import matplotlib\n",
    "import matplotlib.pyplot as plt\n",
    "Y_train_color=[]\n",
    "#print(len(Y_train_color))\n",
    "#print(Y_train_color[0])\n",
    "for i in range(len(Y_train)):\n",
    "    if Y_train[i]==1:\n",
    "        Y_train_color.append(\"red\")\n",
    "    else:\n",
    "        Y_train_color.append(\"blue\")\n",
    "#print(Y_train_color)\n",
    "z_mean = encoder.predict(X_train)\n",
    "plt.figure(figsize=(12, 10))\n",
    "plt.scatter(z_mean[:, 1], z_mean[:, 2] , c=Y_train_color)\n",
    "\n",
    "plt.xlabel(\"z[1]\")\n",
    "plt.ylabel(\"z[2]\")\n",
    "plt.show()\n"
   ]
  },
  {
   "cell_type": "code",
   "execution_count": 57,
   "metadata": {},
   "outputs": [
    {
     "ename": "AttributeError",
     "evalue": "module 'matplotlib.pyplot' has no attribute 'zlabel'",
     "output_type": "error",
     "traceback": [
      "\u001b[0;31m---------------------------------------------------------------------------\u001b[0m",
      "\u001b[0;31mAttributeError\u001b[0m                            Traceback (most recent call last)",
      "\u001b[0;32m<ipython-input-57-1f21535f7e26>\u001b[0m in \u001b[0;36m<module>\u001b[0;34m\u001b[0m\n\u001b[1;32m     17\u001b[0m \u001b[0mplt\u001b[0m\u001b[0;34m.\u001b[0m\u001b[0mxlabel\u001b[0m\u001b[0;34m(\u001b[0m\u001b[0;34m\"z[0]\"\u001b[0m\u001b[0;34m)\u001b[0m\u001b[0;34m\u001b[0m\u001b[0;34m\u001b[0m\u001b[0m\n\u001b[1;32m     18\u001b[0m \u001b[0mplt\u001b[0m\u001b[0;34m.\u001b[0m\u001b[0mylabel\u001b[0m\u001b[0;34m(\u001b[0m\u001b[0;34m\"z[1]\"\u001b[0m\u001b[0;34m)\u001b[0m\u001b[0;34m\u001b[0m\u001b[0;34m\u001b[0m\u001b[0m\n\u001b[0;32m---> 19\u001b[0;31m \u001b[0mplt\u001b[0m\u001b[0;34m.\u001b[0m\u001b[0mzlabel\u001b[0m\u001b[0;34m(\u001b[0m\u001b[0;34m\"z[2]\"\u001b[0m\u001b[0;34m)\u001b[0m\u001b[0;34m\u001b[0m\u001b[0;34m\u001b[0m\u001b[0m\n\u001b[0m\u001b[1;32m     20\u001b[0m \u001b[0mplt\u001b[0m\u001b[0;34m.\u001b[0m\u001b[0mshow\u001b[0m\u001b[0;34m(\u001b[0m\u001b[0;34m)\u001b[0m\u001b[0;34m\u001b[0m\u001b[0;34m\u001b[0m\u001b[0m\n",
      "\u001b[0;31mAttributeError\u001b[0m: module 'matplotlib.pyplot' has no attribute 'zlabel'"
     ]
    },
    {
     "data": {
      "image/png": "[encoded data removed]",
      "text/plain": [
       "<Figure size 864x720 with 1 Axes>"
      ]
     },
     "metadata": {
      "needs_background": "light"
     },
     "output_type": "display_data"
    }
   ],
   "source": [
    "import matplotlib\n",
    "import matplotlib.pyplot as plt\n",
    "Yt_train_color=[]\n",
    "#print(len(Y_train_color))\n",
    "#print(Y_train_color[0])\n",
    "for i in range(len(Yt_train)):\n",
    "    if Yt_train[i]==1:\n",
    "        Yt_train_color.append(\"red\")\n",
    "    elif Yt_train[i]==0:\n",
    "        Yt_train_color.append(\"blue\")\n",
    "    else:\n",
    "        Yt_train_color.append(\"green\")\n",
    "#print(Y_train_color)\n",
    "z_mean = encoder.predict(Xt_train)\n",
    "plt.figure(figsize=(12, 10))\n",
    "plt.scatter(z_mean[:, 2], z_mean[:, 1] ,z_mean[:, 2], c=Yt_train_color)\n",
    "plt.xlabel(\"z[0]\")\n",
    "plt.ylabel(\"z[1]\")\n",
    "plt.zlabel(\"z[2]\")\n",
    "plt.show()\n"
   ]
  },
  {
   "cell_type": "code",
   "execution_count": 60,
   "metadata": {},
   "outputs": [
    {
     "data": {
      "image/png": "[encoded data removed]",
      "text/plain": [
       "<Figure size 432x288 with 1 Axes>"
      ]
     },
     "metadata": {
      "needs_background": "light"
     },
     "output_type": "display_data"
    }
   ],
   "source": [
    "from matplotlib import pyplot\n",
    "from mpl_toolkits.mplot3d import Axes3D\n",
    "import random\n",
    "\n",
    "\n",
    "fig = pyplot.figure()\n",
    "ax = Axes3D(fig)\n",
    "\n",
    "ax.scatter(z_mean[:, 0], z_mean[:, 2] ,z_mean[:, 1], c=Yt_train_color)\n",
    "ax.set_xlabel('z0')\n",
    "ax.set_ylabel('z2')\n",
    "ax.set_zlabel('z1')\n",
    "pyplot.show()"
   ]
  },
  {
   "cell_type": "code",
   "execution_count": null,
   "metadata": {},
   "outputs": [],
   "source": [
    "fig, ax = plt.subplots(figsize=(8,5))\n",
    "\n",
    "ax.plot(history.history['squared_difference_loss'], label='Train Loss')\n",
    "ax.plot(history.history['val_squared_difference_loss'], label='Validation Loss')\n",
    "\n",
    "ax.legend()\n",
    "\n",
    "\n",
    "ax.set_ylabel('loss')\n",
    "ax.set_xlabel('# epochs')\n",
    "\n",
    "plt.title('VAE Loss vs. # of Epochs')\n"
   ]
  },
  {
   "cell_type": "code",
   "execution_count": null,
   "metadata": {},
   "outputs": [],
   "source": [
    "\n"
   ]
  },
  {
   "cell_type": "code",
   "execution_count": 61,
   "metadata": {},
   "outputs": [
    {
     "name": "stdout",
     "output_type": "stream",
     "text": [
      "['jet_1_pt', ' jet_2_pt', ' A_j', ' delta_phi', ' delta_eta', ' centrality', ' frag_1', ' frag_2']\n"
     ]
    }
   ],
   "source": [
    "names = ['jet_1_pt', ' jet_2_pt', ' A_j', ' delta_phi', ' delta_eta', ' centrality', ' frag_1', ' frag_2']\n",
    "print(names)\n",
    "n_examples = 300\n",
    "\n",
    "old_x = X_train[:n_examples]\n",
    "zvals = encoder.predict(old_x)\n",
    "#print(zvals)\n",
    "min_z = -10\n",
    "max_z = 10\n",
    "skip = 1\n",
    "\n",
    "latent_vars = {}\n",
    "latent_var_spectra = {}\n",
    "\n",
    "for i in range(n_z):  \n",
    "    latent_name = \"z\" + str(i)\n",
    "    latent_vars[latent_name] = {}\n",
    "    latent_var_spectra[latent_name] = np.zeros(len(names))\n",
    "    layer = latent_vars[latent_name]\n",
    "    for z in range(min_z, max_z, skip): \n",
    "        zvals[:, i] = z\n",
    "        new_x = predictor.predict(zvals)  \n",
    "        new_z = np.ones(n_examples) * z\n",
    "        if \"x\" in layer:\n",
    "            layer[\"x\"] = np.concatenate((layer[\"x\"], new_x))\n",
    "        else:\n",
    "            layer[\"x\"] = new_x\n",
    "        if \"z\" in layer:\n",
    "            layer[\"z\"] = np.concatenate((layer[\"z\"], new_z), axis=0)\n",
    "        else:\n",
    "            layer[\"z\"] = new_z\n",
    "            \n",
    "    # Take the correlation between the latent variable and all other original data variables,\n",
    "    for j, real_varname in enumerate(names):\n",
    "        latent_var_spectra[latent_name][j] = np.corrcoef(latent_vars[latent_name]['z'], latent_vars[latent_name]['x'][:, j])[0, 1]\n",
    "        \n",
    "        \n",
    "        \n",
    "        "
   ]
  },
  {
   "cell_type": "code",
   "execution_count": 62,
   "metadata": {},
   "outputs": [
    {
     "data": {
      "text/plain": [
       "array([-10., -10., -10., ...,   9.,   9.,   9.])"
      ]
     },
     "execution_count": 62,
     "metadata": {},
     "output_type": "execute_result"
    }
   ],
   "source": [
    "latent_vars[latent_name]['z']"
   ]
  },
  {
   "cell_type": "code",
   "execution_count": 63,
   "metadata": {},
   "outputs": [
    {
     "data": {
      "image/png": "[encoded data removed]",
      "text/plain": [
       "<Figure size 432x288 with 1 Axes>"
      ]
     },
     "metadata": {
      "needs_background": "light"
     },
     "output_type": "display_data"
    }
   ],
   "source": [
    "\n",
    "for i in range(n_z): \n",
    "    plt.plot(latent_var_spectra[\"z\" + str(i)], '.', label=\"z_\" + str(i))\n",
    "plt.xlabel('original variable index')\n",
    "plt.ylabel('correlation coefficient')\n",
    "plt.title('latent variable correlations')\n",
    "plt.legend(loc='center left', bbox_to_anchor=(1, 0.5))\n",
    "plt.show()"
   ]
  },
  {
   "cell_type": "code",
   "execution_count": 1,
   "metadata": {},
   "outputs": [
    {
     "ename": "NameError",
     "evalue": "name 'n_z' is not defined",
     "output_type": "error",
     "traceback": [
      "\u001b[0;31m---------------------------------------------------------------------------\u001b[0m",
      "\u001b[0;31mNameError\u001b[0m                                 Traceback (most recent call last)",
      "\u001b[0;32m<ipython-input-1-95ab3d5ad18f>\u001b[0m in \u001b[0;36m<module>\u001b[0;34m\u001b[0m\n\u001b[1;32m      2\u001b[0m \u001b[0mx_z_data\u001b[0m \u001b[0;34m=\u001b[0m \u001b[0;34m[\u001b[0m\u001b[0;34m]\u001b[0m  \u001b[0;31m# {x: xvals, z: zvals, varname}\u001b[0m\u001b[0;34m\u001b[0m\u001b[0;34m\u001b[0m\u001b[0m\n\u001b[1;32m      3\u001b[0m \u001b[0mfignum\u001b[0m \u001b[0;34m=\u001b[0m \u001b[0;36m0\u001b[0m\u001b[0;34m\u001b[0m\u001b[0;34m\u001b[0m\u001b[0m\n\u001b[0;32m----> 4\u001b[0;31m \u001b[0;32mfor\u001b[0m \u001b[0mz_i\u001b[0m \u001b[0;32min\u001b[0m \u001b[0mrange\u001b[0m\u001b[0;34m(\u001b[0m\u001b[0mn_z\u001b[0m\u001b[0;34m)\u001b[0m\u001b[0;34m:\u001b[0m\u001b[0;34m\u001b[0m\u001b[0;34m\u001b[0m\u001b[0m\n\u001b[0m\u001b[1;32m      5\u001b[0m     \u001b[0mlatent_varname\u001b[0m \u001b[0;34m=\u001b[0m \u001b[0;34m\"z\"\u001b[0m \u001b[0;34m+\u001b[0m \u001b[0mstr\u001b[0m\u001b[0;34m(\u001b[0m\u001b[0mz_i\u001b[0m\u001b[0;34m)\u001b[0m\u001b[0;34m\u001b[0m\u001b[0;34m\u001b[0m\u001b[0m\n\u001b[1;32m      6\u001b[0m     \u001b[0;32mfor\u001b[0m \u001b[0mj\u001b[0m\u001b[0;34m,\u001b[0m \u001b[0mreal_varname\u001b[0m \u001b[0;32min\u001b[0m \u001b[0menumerate\u001b[0m\u001b[0;34m(\u001b[0m\u001b[0mnames\u001b[0m\u001b[0;34m)\u001b[0m\u001b[0;34m:\u001b[0m\u001b[0;34m\u001b[0m\u001b[0;34m\u001b[0m\u001b[0m\n",
      "\u001b[0;31mNameError\u001b[0m: name 'n_z' is not defined"
     ]
    }
   ],
   "source": [
    "# plot each latent variable against each real value\n",
    "x_z_data = []  # {x: xvals, z: zvals, varname}\n",
    "fignum = 0\n",
    "for z_i in range(n_z):\n",
    "    latent_varname = \"z\" + str(z_i)\n",
    "    for j, real_varname in enumerate(names):\n",
    "        fignum += 1\n",
    "        title = latent_varname + \"_vs_\" + real_varname\n",
    "        x_data = latent_vars[latent_varname][\"x\"][:,j]\n",
    "        z_data = latent_vars[latent_varname][\"z\"]\n",
    "\n",
    "        plt.scatter(z_data, x_data) \n",
    "        plt.title(title)\n",
    "        plt.xlabel(latent_varname)\n",
    "        plt.ylabel(real_varname)"
   ]
  },
  {
   "cell_type": "code",
   "execution_count": 5,
   "metadata": {},
   "outputs": [
    {
     "name": "stdout",
     "output_type": "stream",
     "text": [
      "WARNING: pip is being invoked by an old script wrapper. This will fail in a future version of pip.\n",
      "Please see https://github.com/pypa/pip/issues/5599 for advice on fixing the underlying issue.\n",
      "To avoid this problem you can invoke Python with '-m pip' instead of running pip directly.\n",
      "Processing /global/u2/s/stuti/.cache/pip/wheels/11/6e/05/1ae20ee2a988d46c6812134a8e392f2c11d3e5f48396826e39/smt-0.5.3-cp37-cp37m-linux_x86_64.whl\n",
      "Requirement already satisfied: six>=1.10 in /global/common/cori_cle7/software/tensorflow/intel-tensorflow/1.15.0-py37/lib/python3.7/site-packages (from smt) (1.12.0)\n",
      "Processing /global/u2/s/stuti/.cache/pip/wheels/49/91/2d/d08e80806bf7756193541f6c03c0492af288fcd6158d3d0998/pyDOE2-1.3.0-py3-none-any.whl\n",
      "Requirement already satisfied: scipy in /global/common/cori_cle7/software/tensorflow/intel-tensorflow/1.15.0-py37/lib/python3.7/site-packages (from smt) (1.4.1)\n",
      "Collecting numpydoc\n",
      "  Using cached numpydoc-1.1.0-py3-none-any.whl (47 kB)\n",
      "Requirement already satisfied: matplotlib in /global/common/cori_cle7/software/tensorflow/intel-tensorflow/1.15.0-py37/lib/python3.7/site-packages (from smt) (3.1.3)\n",
      "Requirement already satisfied: scikit-learn in /global/common/cori_cle7/software/tensorflow/intel-tensorflow/1.15.0-py37/lib/python3.7/site-packages (from smt) (0.22.1)\n",
      "Collecting packaging\n",
      "  Downloading packaging-20.4-py2.py3-none-any.whl (37 kB)\n",
      "Requirement already satisfied: numpy in /global/common/cori_cle7/software/tensorflow/intel-tensorflow/1.15.0-py37/lib/python3.7/site-packages (from pyDOE2->smt) (1.18.1)\n",
      "Collecting sphinx>=1.6.5\n",
      "  Using cached Sphinx-3.2.1-py3-none-any.whl (2.9 MB)\n",
      "Requirement already satisfied: Jinja2>=2.3 in /global/common/cori_cle7/software/tensorflow/intel-tensorflow/1.15.0-py37/lib/python3.7/site-packages (from numpydoc->smt) (2.11.1)\n",
      "Requirement already satisfied: python-dateutil>=2.1 in /global/common/cori_cle7/software/tensorflow/intel-tensorflow/1.15.0-py37/lib/python3.7/site-packages (from matplotlib->smt) (2.8.1)\n",
      "Requirement already satisfied: pyparsing!=2.0.4,!=2.1.2,!=2.1.6,>=2.0.1 in /global/common/cori_cle7/software/tensorflow/intel-tensorflow/1.15.0-py37/lib/python3.7/site-packages (from matplotlib->smt) (2.4.6)\n",
      "Requirement already satisfied: kiwisolver>=1.0.1 in /global/common/cori_cle7/software/tensorflow/intel-tensorflow/1.15.0-py37/lib/python3.7/site-packages (from matplotlib->smt) (1.1.0)\n",
      "Requirement already satisfied: cycler>=0.10 in /global/common/cori_cle7/software/tensorflow/intel-tensorflow/1.15.0-py37/lib/python3.7/site-packages (from matplotlib->smt) (0.10.0)\n",
      "Requirement already satisfied: joblib>=0.11 in /global/common/cori_cle7/software/tensorflow/intel-tensorflow/1.15.0-py37/lib/python3.7/site-packages (from scikit-learn->smt) (0.14.1)\n",
      "Collecting sphinxcontrib-qthelp\n",
      "  Using cached sphinxcontrib_qthelp-1.0.3-py2.py3-none-any.whl (90 kB)\n",
      "Collecting sphinxcontrib-htmlhelp\n",
      "  Using cached sphinxcontrib_htmlhelp-1.0.3-py2.py3-none-any.whl (96 kB)\n",
      "Collecting sphinxcontrib-serializinghtml\n",
      "  Using cached sphinxcontrib_serializinghtml-1.1.4-py2.py3-none-any.whl (89 kB)\n",
      "Collecting imagesize\n",
      "  Using cached imagesize-1.2.0-py2.py3-none-any.whl (4.8 kB)\n",
      "Collecting sphinxcontrib-applehelp\n",
      "  Using cached sphinxcontrib_applehelp-1.0.2-py2.py3-none-any.whl (121 kB)\n",
      "Collecting snowballstemmer>=1.1\n",
      "  Using cached snowballstemmer-2.0.0-py2.py3-none-any.whl (97 kB)\n",
      "Requirement already satisfied: setuptools in /global/u2/s/stuti/.local/cori/intel-tensorflow1.15.0-py37/lib/python3.7/site-packages (from sphinx>=1.6.5->numpydoc->smt) (49.6.0)\n",
      "Collecting alabaster<0.8,>=0.7\n",
      "  Using cached alabaster-0.7.12-py2.py3-none-any.whl (14 kB)\n",
      "Requirement already satisfied: Pygments>=2.0 in /global/common/cori_cle7/software/tensorflow/intel-tensorflow/1.15.0-py37/lib/python3.7/site-packages (from sphinx>=1.6.5->numpydoc->smt) (2.5.2)\n",
      "Collecting sphinxcontrib-jsmath\n",
      "  Using cached sphinxcontrib_jsmath-1.0.1-py2.py3-none-any.whl (5.1 kB)\n",
      "Collecting sphinxcontrib-devhelp\n",
      "  Using cached sphinxcontrib_devhelp-1.0.2-py2.py3-none-any.whl (84 kB)\n",
      "Requirement already satisfied: requests>=2.5.0 in /global/common/cori_cle7/software/tensorflow/intel-tensorflow/1.15.0-py37/lib/python3.7/site-packages (from sphinx>=1.6.5->numpydoc->smt) (2.22.0)\n",
      "Collecting babel>=1.3\n",
      "  Using cached Babel-2.8.0-py2.py3-none-any.whl (8.6 MB)\n",
      "Collecting docutils>=0.12\n",
      "  Using cached docutils-0.16-py2.py3-none-any.whl (548 kB)\n",
      "Requirement already satisfied: MarkupSafe>=0.23 in /global/common/cori_cle7/software/tensorflow/intel-tensorflow/1.15.0-py37/lib/python3.7/site-packages (from Jinja2>=2.3->numpydoc->smt) (1.1.1)\n",
      "Requirement already satisfied: urllib3!=1.25.0,!=1.25.1,<1.26,>=1.21.1 in /global/common/cori_cle7/software/tensorflow/intel-tensorflow/1.15.0-py37/lib/python3.7/site-packages (from requests>=2.5.0->sphinx>=1.6.5->numpydoc->smt) (1.24.2)\n",
      "Requirement already satisfied: certifi>=2017.4.17 in /global/common/cori_cle7/software/tensorflow/intel-tensorflow/1.15.0-py37/lib/python3.7/site-packages (from requests>=2.5.0->sphinx>=1.6.5->numpydoc->smt) (2019.11.28)\n",
      "Requirement already satisfied: chardet<3.1.0,>=3.0.2 in /global/common/cori_cle7/software/tensorflow/intel-tensorflow/1.15.0-py37/lib/python3.7/site-packages (from requests>=2.5.0->sphinx>=1.6.5->numpydoc->smt) (3.0.4)\n",
      "Requirement already satisfied: idna<2.9,>=2.5 in /global/common/cori_cle7/software/tensorflow/intel-tensorflow/1.15.0-py37/lib/python3.7/site-packages (from requests>=2.5.0->sphinx>=1.6.5->numpydoc->smt) (2.8)\n",
      "Requirement already satisfied: pytz>=2015.7 in /global/common/cori_cle7/software/tensorflow/intel-tensorflow/1.15.0-py37/lib/python3.7/site-packages (from babel>=1.3->sphinx>=1.6.5->numpydoc->smt) (2019.3)\n",
      "Installing collected packages: pyDOE2, sphinxcontrib-qthelp, sphinxcontrib-htmlhelp, sphinxcontrib-serializinghtml, imagesize, sphinxcontrib-applehelp, snowballstemmer, alabaster, packaging, sphinxcontrib-jsmath, sphinxcontrib-devhelp, babel, docutils, sphinx, numpydoc, smt\n",
      "\u001b[33m  WARNING: The script pybabel is installed in '/global/homes/s/stuti/.local/cori/intel-tensorflow1.15.0-py37/bin' which is not on PATH.\n",
      "  Consider adding this directory to PATH or, if you prefer to suppress this warning, use --no-warn-script-location.\u001b[0m\n",
      "\u001b[33m  WARNING: The scripts sphinx-apidoc, sphinx-autogen, sphinx-build and sphinx-quickstart are installed in '/global/homes/s/stuti/.local/cori/intel-tensorflow1.15.0-py37/bin' which is not on PATH.\n",
      "  Consider adding this directory to PATH or, if you prefer to suppress this warning, use --no-warn-script-location.\u001b[0m\n",
      "Successfully installed alabaster-0.7.12 babel-2.8.0 docutils-0.16 imagesize-1.2.0 numpydoc-1.1.0 packaging-20.4 pyDOE2-1.3.0 smt-0.5.3 snowballstemmer-2.0.0 sphinx-3.2.1 sphinxcontrib-applehelp-1.0.2 sphinxcontrib-devhelp-1.0.2 sphinxcontrib-htmlhelp-1.0.3 sphinxcontrib-jsmath-1.0.1 sphinxcontrib-qthelp-1.0.3 sphinxcontrib-serializinghtml-1.1.4\n"
     ]
    }
   ],
   "source": [
    "!pip install --user smt"
   ]
  },
  {
   "cell_type": "code",
   "execution_count": 6,
   "metadata": {},
   "outputs": [],
   "source": [
    "from __future__ import print_function, division\n",
    "import numpy as np\n",
    "from scipy import linalg\n",
    "from smt.utils import compute_rms_error\n",
    "\n",
    "from smt.problems import Sphere, NdimRobotArm, Rosenbrock\n",
    "from smt.sampling_methods import LHS\n",
    "from smt.surrogate_models import LS, QP, KPLS, KRG, KPLSK, GEKPLS\n",
    "try:\n",
    "    from smt.surrogate_models import IDW, RBF, RMTC, RMTB\n",
    "    compiled_available = True\n",
    "except:\n",
    "    compiled_available = False\n",
    "\n",
    "try:\n",
    "    import matplotlib.pyplot as plt\n",
    "    plot_status = True\n",
    "except:\n",
    "    plot_status = False\n",
    "\n",
    "import scipy.interpolate\n",
    "\n",
    "from mpl_toolkits.mplot3d import Axes3D\n",
    "import matplotlib.pyplot as plt\n",
    "from matplotlib import cm"
   ]
  },
  {
   "cell_type": "code",
   "execution_count": 7,
   "metadata": {},
   "outputs": [],
   "source": [
    "ndim = 2\n",
    "ndoe = 20 #int(10*ndim)\n",
    "# Define the function\n",
    "fun = Rosenbrock(ndim=ndim)\n",
    "\n",
    "# Construction of the DOE\n",
    "sampling = LHS(xlimits=fun.xlimits, criterion='m')\n",
    "xt = sampling(ndoe)\n",
    "# Compute the outputs\n",
    "yt = fun(xt)\n",
    "\n",
    "# Construction of the validation points\n",
    "ntest = 200 #500\n",
    "sampling = LHS(xlimits=fun.xlimits)\n",
    "xtest = sampling(ntest)\n",
    "ytest = fun(xtest)"
   ]
  },
  {
   "cell_type": "code",
   "execution_count": 8,
   "metadata": {},
   "outputs": [
    {
     "name": "stdout",
     "output_type": "stream",
     "text": [
      "___________________________________________________________________________\n",
      "   \n",
      "                                  Kriging\n",
      "___________________________________________________________________________\n",
      "   \n",
      " Problem size\n",
      "   \n",
      "      # training points.        : 20\n",
      "   \n",
      "___________________________________________________________________________\n",
      "   \n",
      " Training\n",
      "   \n",
      "   Training ...\n",
      "   Training - done. Time (sec):  0.2263954\n",
      "Kriging,  err: 0.0022593696068456057\n"
     ]
    },
    {
     "data": {
      "image/png": "[encoded data removed]",
      "text/plain": [
       "<Figure size 432x288 with 1 Axes>"
      ]
     },
     "metadata": {
      "needs_background": "light"
     },
     "output_type": "display_data"
    },
    {
     "name": "stdout",
     "output_type": "stream",
     "text": [
      "theta values [0.0528974  0.00075577]\n"
     ]
    }
   ],
   "source": [
    "########### The Kriging model\n",
    "\n",
    "# The variable 'theta0' is a list of length ndim.\n",
    "t = KRG(theta0=[1e-2]*ndim,print_prediction = False)\n",
    "t.set_training_values(xt,yt[:,0])\n",
    "\n",
    "t.train()\n",
    "\n",
    "# Prediction of the validation points\n",
    "y = t.predict_values(xtest)\n",
    "print('Kriging,  err: '+ str(compute_rms_error(t,xtest,ytest)))\n",
    "if plot_status:\n",
    "    \n",
    "# Plot the function, the prediction and the 95% confidence interval based on\n",
    "# the MSE\n",
    "    fig = plt.figure()\n",
    "    plt.plot(ytest, ytest, '-', label='$y_{true}$')\n",
    "    plt.plot(ytest, y, 'r.', label='$\\hat{y}$')\n",
    "   \n",
    "    plt.xlabel('$y_{true}$')\n",
    "    plt.ylabel('$\\hat{y}$')\n",
    "    \n",
    "    plt.legend(loc='upper left')\n",
    "    plt.title('Kriging model: validation of the prediction model')   \n",
    "\n",
    "if plot_status:\n",
    "    plt.show()\n",
    "\n",
    "# Value of theta\n",
    "print(\"theta values\",  t.optimal_theta)"
   ]
  },
  {
   "cell_type": "code",
   "execution_count": 62,
   "metadata": {},
   "outputs": [
    {
     "name": "stdout",
     "output_type": "stream",
     "text": [
      "[1.99, 1.99, 0.575, 0.595, 0.615, 0.695, 0.395, 0.665, 1.99, 1.99, 1.99, 0.675, 1.99, 1.99, 0.525, 1.99, 1.99, 0.585, 1.99, 1.99, 1.99, 1.99, 0.755, 0.645, 1.99, 0.525, 0.605, 1.99, 1.99, 1.99, 0.455, 1.99, 1.99, 1.99, 0.785, 1.99, 1.99, 1.99, 0.755]\n",
      "[-1.0289284, -0.73042697, -0.24035385, -0.14107305, -0.090675645, -0.25935537, -0.24304527, 0.06105084, -0.4751343, -0.73494244, -0.5786384, -0.22071838, -0.70282644, -0.31621456, 0.044820417, -0.40562075, -1.0986265, -0.20891112, -0.64867353, -0.5469317, -0.7086341, -0.93509424, 0.25648385, 0.11691376, -0.29088748, -0.35758498, -0.119761266, -0.36449668, -0.2151888, -0.27235198, -0.16538894, -1.3873656, -0.62599295, -0.18625787, -0.16646546, -0.3492927, -0.64245856, -0.47172445, 0.11373679]\n"
     ]
    }
   ],
   "source": [
    "names = ['jet_1_pt', ' jet_2_pt', ' A_j', ' delta_phi', ' delta_eta', ' centrality', ' frag_1', ' frag_2']\n",
    "\n",
    "n_examples = 40\n",
    "\n",
    "old_x = X_train[:n_examples]\n",
    "zvals = encoder.predict(old_x)\n",
    "xt=[]\n",
    "yt=[]\n",
    "for i in range(n_examples-1):\n",
    "    xt.append(old_x[i+1][5])\n",
    "print(xt)\n",
    "for i in range(n_examples-1):\n",
    "    yt.append(zvals[i+1][1])\n",
    "print(yt)"
   ]
  },
  {
   "cell_type": "code",
   "execution_count": 63,
   "metadata": {},
   "outputs": [
    {
     "name": "stdout",
     "output_type": "stream",
     "text": [
      "___________________________________________________________________________\n",
      "   \n",
      "                                  Kriging\n",
      "___________________________________________________________________________\n",
      "   \n",
      " Problem size\n",
      "   \n",
      "      # training points.        : 39\n",
      "   \n",
      "___________________________________________________________________________\n",
      "   \n",
      " Training\n",
      "   \n",
      "   Training ...\n"
     ]
    },
    {
     "ename": "Exception",
     "evalue": "Multiple input features cannot have the same value.",
     "output_type": "error",
     "traceback": [
      "\u001b[0;31m---------------------------------------------------------------------------\u001b[0m",
      "\u001b[0;31mException\u001b[0m                                 Traceback (most recent call last)",
      "\u001b[0;32m<ipython-input-63-77128764d125>\u001b[0m in \u001b[0;36m<module>\u001b[0;34m\u001b[0m\n\u001b[1;32m      4\u001b[0m \u001b[0msm\u001b[0m \u001b[0;34m=\u001b[0m \u001b[0mKRG\u001b[0m\u001b[0;34m(\u001b[0m\u001b[0mtheta0\u001b[0m\u001b[0;34m=\u001b[0m\u001b[0;34m[\u001b[0m\u001b[0;36m1e-2\u001b[0m\u001b[0;34m]\u001b[0m\u001b[0;34m)\u001b[0m\u001b[0;34m\u001b[0m\u001b[0;34m\u001b[0m\u001b[0m\n\u001b[1;32m      5\u001b[0m \u001b[0msm\u001b[0m\u001b[0;34m.\u001b[0m\u001b[0mset_training_values\u001b[0m\u001b[0;34m(\u001b[0m\u001b[0mxt\u001b[0m\u001b[0;34m,\u001b[0m \u001b[0myt\u001b[0m\u001b[0;34m)\u001b[0m\u001b[0;34m\u001b[0m\u001b[0;34m\u001b[0m\u001b[0m\n\u001b[0;32m----> 6\u001b[0;31m \u001b[0msm\u001b[0m\u001b[0;34m.\u001b[0m\u001b[0mtrain\u001b[0m\u001b[0;34m(\u001b[0m\u001b[0;34m)\u001b[0m\u001b[0;34m\u001b[0m\u001b[0;34m\u001b[0m\u001b[0m\n\u001b[0m\u001b[1;32m      7\u001b[0m \u001b[0;34m\u001b[0m\u001b[0m\n\u001b[1;32m      8\u001b[0m \u001b[0mnum\u001b[0m \u001b[0;34m=\u001b[0m \u001b[0;36m10\u001b[0m\u001b[0;34m\u001b[0m\u001b[0;34m\u001b[0m\u001b[0m\n",
      "\u001b[0;32m~/.local/cori/intel-tensorflow1.15.0-py37/lib/python3.7/site-packages/smt/surrogate_models/surrogate_model.py\u001b[0m in \u001b[0;36mtrain\u001b[0;34m(self)\u001b[0m\n\u001b[1;32m    246\u001b[0m         \u001b[0;31m# Train the model using the specified model-method\u001b[0m\u001b[0;34m\u001b[0m\u001b[0;34m\u001b[0m\u001b[0;34m\u001b[0m\u001b[0m\n\u001b[1;32m    247\u001b[0m         \u001b[0;32mwith\u001b[0m \u001b[0mself\u001b[0m\u001b[0;34m.\u001b[0m\u001b[0mprinter\u001b[0m\u001b[0;34m.\u001b[0m\u001b[0m_timed_context\u001b[0m\u001b[0;34m(\u001b[0m\u001b[0;34m\"Training\"\u001b[0m\u001b[0;34m,\u001b[0m \u001b[0;34m\"training\"\u001b[0m\u001b[0;34m)\u001b[0m\u001b[0;34m:\u001b[0m\u001b[0;34m\u001b[0m\u001b[0;34m\u001b[0m\u001b[0m\n\u001b[0;32m--> 248\u001b[0;31m             \u001b[0mself\u001b[0m\u001b[0;34m.\u001b[0m\u001b[0m_train\u001b[0m\u001b[0;34m(\u001b[0m\u001b[0;34m)\u001b[0m\u001b[0;34m\u001b[0m\u001b[0;34m\u001b[0m\u001b[0m\n\u001b[0m\u001b[1;32m    249\u001b[0m \u001b[0;34m\u001b[0m\u001b[0m\n\u001b[1;32m    250\u001b[0m     \u001b[0;32mdef\u001b[0m \u001b[0mpredict_values\u001b[0m\u001b[0;34m(\u001b[0m\u001b[0mself\u001b[0m\u001b[0;34m,\u001b[0m \u001b[0mx\u001b[0m\u001b[0;34m)\u001b[0m\u001b[0;34m:\u001b[0m\u001b[0;34m\u001b[0m\u001b[0;34m\u001b[0m\u001b[0m\n",
      "\u001b[0;32m~/.local/cori/intel-tensorflow1.15.0-py37/lib/python3.7/site-packages/smt/surrogate_models/krg_based.py\u001b[0m in \u001b[0;36m_train\u001b[0;34m(self)\u001b[0m\n\u001b[1;32m    121\u001b[0m         \u001b[0mTrain\u001b[0m \u001b[0mthe\u001b[0m \u001b[0mmodel\u001b[0m\u001b[0;34m\u001b[0m\u001b[0;34m\u001b[0m\u001b[0m\n\u001b[1;32m    122\u001b[0m         \"\"\"\n\u001b[0;32m--> 123\u001b[0;31m         \u001b[0mself\u001b[0m\u001b[0;34m.\u001b[0m\u001b[0m_new_train\u001b[0m\u001b[0;34m(\u001b[0m\u001b[0;34m)\u001b[0m\u001b[0;34m\u001b[0m\u001b[0;34m\u001b[0m\u001b[0m\n\u001b[0m\u001b[1;32m    124\u001b[0m \u001b[0;34m\u001b[0m\u001b[0m\n\u001b[1;32m    125\u001b[0m     \u001b[0;32mdef\u001b[0m \u001b[0m_reduced_likelihood_function\u001b[0m\u001b[0;34m(\u001b[0m\u001b[0mself\u001b[0m\u001b[0;34m,\u001b[0m \u001b[0mtheta\u001b[0m\u001b[0;34m)\u001b[0m\u001b[0;34m:\u001b[0m\u001b[0;34m\u001b[0m\u001b[0;34m\u001b[0m\u001b[0m\n",
      "\u001b[0;32m~/.local/cori/intel-tensorflow1.15.0-py37/lib/python3.7/site-packages/smt/surrogate_models/krg_based.py\u001b[0m in \u001b[0;36m_new_train\u001b[0;34m(self)\u001b[0m\n\u001b[1;32m     97\u001b[0m         \u001b[0mD\u001b[0m\u001b[0;34m,\u001b[0m \u001b[0mself\u001b[0m\u001b[0;34m.\u001b[0m\u001b[0mij\u001b[0m \u001b[0;34m=\u001b[0m \u001b[0ml1_cross_distances\u001b[0m\u001b[0;34m(\u001b[0m\u001b[0mself\u001b[0m\u001b[0;34m.\u001b[0m\u001b[0mX_norma\u001b[0m\u001b[0;34m)\u001b[0m\u001b[0;34m\u001b[0m\u001b[0;34m\u001b[0m\u001b[0m\n\u001b[1;32m     98\u001b[0m         \u001b[0;32mif\u001b[0m \u001b[0mnp\u001b[0m\u001b[0;34m.\u001b[0m\u001b[0mmin\u001b[0m\u001b[0;34m(\u001b[0m\u001b[0mnp\u001b[0m\u001b[0;34m.\u001b[0m\u001b[0msum\u001b[0m\u001b[0;34m(\u001b[0m\u001b[0mD\u001b[0m\u001b[0;34m,\u001b[0m \u001b[0maxis\u001b[0m\u001b[0;34m=\u001b[0m\u001b[0;36m1\u001b[0m\u001b[0;34m)\u001b[0m\u001b[0;34m)\u001b[0m \u001b[0;34m==\u001b[0m \u001b[0;36m0.0\u001b[0m\u001b[0;34m:\u001b[0m\u001b[0;34m\u001b[0m\u001b[0;34m\u001b[0m\u001b[0m\n\u001b[0;32m---> 99\u001b[0;31m             \u001b[0;32mraise\u001b[0m \u001b[0mException\u001b[0m\u001b[0;34m(\u001b[0m\u001b[0;34m\"Multiple input features cannot have the same value.\"\u001b[0m\u001b[0;34m)\u001b[0m\u001b[0;34m\u001b[0m\u001b[0;34m\u001b[0m\u001b[0m\n\u001b[0m\u001b[1;32m    100\u001b[0m \u001b[0;34m\u001b[0m\u001b[0m\n\u001b[1;32m    101\u001b[0m         \u001b[0;31m# Regression matrix and parameters\u001b[0m\u001b[0;34m\u001b[0m\u001b[0;34m\u001b[0m\u001b[0;34m\u001b[0m\u001b[0m\n",
      "\u001b[0;31mException\u001b[0m: Multiple input features cannot have the same value."
     ]
    }
   ],
   "source": [
    "\n",
    "xt = np.array(xt)\n",
    "yt = np.array(yt)\n",
    "\n",
    "sm = KRG(theta0=[1e-2])\n",
    "sm.set_training_values(xt, yt)\n",
    "sm.train()\n",
    "\n",
    "num = 10\n",
    "x = np.linspace(-0.75, 0.75, num)\n",
    "y = sm.predict_values(x)\n",
    "\n",
    "plt.plot(xt, yt, \"o\")\n",
    "plt.plot(x, y)\n",
    "plt.xlabel(\"x\")\n",
    "plt.ylabel(\"y\")\n",
    "plt.legend([\"Training data\", \"Prediction\"])\n",
    "plt.show()"
   ]
  },
  {
   "cell_type": "code",
   "execution_count": 16,
   "metadata": {},
   "outputs": [],
   "source": [
    "def creator(a):\n",
    "    return a*2"
   ]
  },
  {
   "cell_type": "code",
   "execution_count": 25,
   "metadata": {},
   "outputs": [
    {
     "name": "stdout",
     "output_type": "stream",
     "text": [
      "[2.  2.4 2.6]\n"
     ]
    },
    {
     "data": {
      "text/plain": [
       "[None]"
      ]
     },
     "execution_count": 25,
     "metadata": {},
     "output_type": "execute_result"
    }
   ],
   "source": [
    "def example():\n",
    "    x= np.array([1, 1.2, 1.3])\n",
    "    y = creator(x) \n",
    "    print(y)\n",
    "    a = tensorflow.Variable(x)\n",
    "    b = creator(a)\n",
    "\n",
    "    return tensorflow.gradients(a , b)\n",
    "example()"
   ]
  },
  {
   "cell_type": "code",
   "execution_count": 26,
   "metadata": {},
   "outputs": [
    {
     "ename": "TypeError",
     "evalue": "Fetch argument None has invalid type <class 'NoneType'>",
     "output_type": "error",
     "traceback": [
      "\u001b[0;31m---------------------------------------------------------------------------\u001b[0m",
      "\u001b[0;31mTypeError\u001b[0m                                 Traceback (most recent call last)",
      "\u001b[0;32m<ipython-input-26-d8c526635e73>\u001b[0m in \u001b[0;36m<module>\u001b[0;34m\u001b[0m\n\u001b[1;32m      7\u001b[0m \u001b[0;32mwith\u001b[0m \u001b[0mtensorflow\u001b[0m\u001b[0;34m.\u001b[0m\u001b[0mSession\u001b[0m\u001b[0;34m(\u001b[0m\u001b[0;34m)\u001b[0m \u001b[0;32mas\u001b[0m \u001b[0msess\u001b[0m\u001b[0;34m:\u001b[0m\u001b[0;34m\u001b[0m\u001b[0;34m\u001b[0m\u001b[0m\n\u001b[1;32m      8\u001b[0m     \u001b[0msess\u001b[0m\u001b[0;34m.\u001b[0m\u001b[0mrun\u001b[0m\u001b[0;34m(\u001b[0m\u001b[0;34m[\u001b[0m\u001b[0minit\u001b[0m\u001b[0;34m,\u001b[0m \u001b[0minit_local\u001b[0m\u001b[0;34m]\u001b[0m\u001b[0;34m)\u001b[0m\u001b[0;34m\u001b[0m\u001b[0;34m\u001b[0m\u001b[0m\n\u001b[0;32m----> 9\u001b[0;31m     \u001b[0mprint\u001b[0m\u001b[0;34m(\u001b[0m\u001b[0msess\u001b[0m\u001b[0;34m.\u001b[0m\u001b[0mrun\u001b[0m\u001b[0;34m(\u001b[0m\u001b[0;34m[\u001b[0m\u001b[0mg\u001b[0m\u001b[0;34m]\u001b[0m\u001b[0;34m)\u001b[0m\u001b[0;34m)\u001b[0m\u001b[0;34m\u001b[0m\u001b[0;34m\u001b[0m\u001b[0m\n\u001b[0m",
      "\u001b[0;32m/usr/common/software/tensorflow/intel-tensorflow/1.15.0-py37/lib/python3.7/site-packages/tensorflow_core/python/client/session.py\u001b[0m in \u001b[0;36mrun\u001b[0;34m(self, fetches, feed_dict, options, run_metadata)\u001b[0m\n\u001b[1;32m    954\u001b[0m     \u001b[0;32mtry\u001b[0m\u001b[0;34m:\u001b[0m\u001b[0;34m\u001b[0m\u001b[0;34m\u001b[0m\u001b[0m\n\u001b[1;32m    955\u001b[0m       result = self._run(None, fetches, feed_dict, options_ptr,\n\u001b[0;32m--> 956\u001b[0;31m                          run_metadata_ptr)\n\u001b[0m\u001b[1;32m    957\u001b[0m       \u001b[0;32mif\u001b[0m \u001b[0mrun_metadata\u001b[0m\u001b[0;34m:\u001b[0m\u001b[0;34m\u001b[0m\u001b[0;34m\u001b[0m\u001b[0m\n\u001b[1;32m    958\u001b[0m         \u001b[0mproto_data\u001b[0m \u001b[0;34m=\u001b[0m \u001b[0mtf_session\u001b[0m\u001b[0;34m.\u001b[0m\u001b[0mTF_GetBuffer\u001b[0m\u001b[0;34m(\u001b[0m\u001b[0mrun_metadata_ptr\u001b[0m\u001b[0;34m)\u001b[0m\u001b[0;34m\u001b[0m\u001b[0;34m\u001b[0m\u001b[0m\n",
      "\u001b[0;32m/usr/common/software/tensorflow/intel-tensorflow/1.15.0-py37/lib/python3.7/site-packages/tensorflow_core/python/client/session.py\u001b[0m in \u001b[0;36m_run\u001b[0;34m(self, handle, fetches, feed_dict, options, run_metadata)\u001b[0m\n\u001b[1;32m   1163\u001b[0m     \u001b[0;31m# Create a fetch handler to take care of the structure of fetches.\u001b[0m\u001b[0;34m\u001b[0m\u001b[0;34m\u001b[0m\u001b[0;34m\u001b[0m\u001b[0m\n\u001b[1;32m   1164\u001b[0m     fetch_handler = _FetchHandler(\n\u001b[0;32m-> 1165\u001b[0;31m         self._graph, fetches, feed_dict_tensor, feed_handles=feed_handles)\n\u001b[0m\u001b[1;32m   1166\u001b[0m \u001b[0;34m\u001b[0m\u001b[0m\n\u001b[1;32m   1167\u001b[0m     \u001b[0;31m# Run request and get response.\u001b[0m\u001b[0;34m\u001b[0m\u001b[0;34m\u001b[0m\u001b[0;34m\u001b[0m\u001b[0m\n",
      "\u001b[0;32m/usr/common/software/tensorflow/intel-tensorflow/1.15.0-py37/lib/python3.7/site-packages/tensorflow_core/python/client/session.py\u001b[0m in \u001b[0;36m__init__\u001b[0;34m(self, graph, fetches, feeds, feed_handles)\u001b[0m\n\u001b[1;32m    472\u001b[0m     \"\"\"\n\u001b[1;32m    473\u001b[0m     \u001b[0;32mwith\u001b[0m \u001b[0mgraph\u001b[0m\u001b[0;34m.\u001b[0m\u001b[0mas_default\u001b[0m\u001b[0;34m(\u001b[0m\u001b[0;34m)\u001b[0m\u001b[0;34m:\u001b[0m\u001b[0;34m\u001b[0m\u001b[0;34m\u001b[0m\u001b[0m\n\u001b[0;32m--> 474\u001b[0;31m       \u001b[0mself\u001b[0m\u001b[0;34m.\u001b[0m\u001b[0m_fetch_mapper\u001b[0m \u001b[0;34m=\u001b[0m \u001b[0m_FetchMapper\u001b[0m\u001b[0;34m.\u001b[0m\u001b[0mfor_fetch\u001b[0m\u001b[0;34m(\u001b[0m\u001b[0mfetches\u001b[0m\u001b[0;34m)\u001b[0m\u001b[0;34m\u001b[0m\u001b[0;34m\u001b[0m\u001b[0m\n\u001b[0m\u001b[1;32m    475\u001b[0m     \u001b[0mself\u001b[0m\u001b[0;34m.\u001b[0m\u001b[0m_fetches\u001b[0m \u001b[0;34m=\u001b[0m \u001b[0;34m[\u001b[0m\u001b[0;34m]\u001b[0m\u001b[0;34m\u001b[0m\u001b[0;34m\u001b[0m\u001b[0m\n\u001b[1;32m    476\u001b[0m     \u001b[0mself\u001b[0m\u001b[0;34m.\u001b[0m\u001b[0m_targets\u001b[0m \u001b[0;34m=\u001b[0m \u001b[0;34m[\u001b[0m\u001b[0;34m]\u001b[0m\u001b[0;34m\u001b[0m\u001b[0;34m\u001b[0m\u001b[0m\n",
      "\u001b[0;32m/usr/common/software/tensorflow/intel-tensorflow/1.15.0-py37/lib/python3.7/site-packages/tensorflow_core/python/client/session.py\u001b[0m in \u001b[0;36mfor_fetch\u001b[0;34m(fetch)\u001b[0m\n\u001b[1;32m    264\u001b[0m     \u001b[0;32melif\u001b[0m \u001b[0misinstance\u001b[0m\u001b[0;34m(\u001b[0m\u001b[0mfetch\u001b[0m\u001b[0;34m,\u001b[0m \u001b[0;34m(\u001b[0m\u001b[0mlist\u001b[0m\u001b[0;34m,\u001b[0m \u001b[0mtuple\u001b[0m\u001b[0;34m)\u001b[0m\u001b[0;34m)\u001b[0m\u001b[0;34m:\u001b[0m\u001b[0;34m\u001b[0m\u001b[0;34m\u001b[0m\u001b[0m\n\u001b[1;32m    265\u001b[0m       \u001b[0;31m# NOTE(touts): This is also the code path for namedtuples.\u001b[0m\u001b[0;34m\u001b[0m\u001b[0;34m\u001b[0m\u001b[0;34m\u001b[0m\u001b[0m\n\u001b[0;32m--> 266\u001b[0;31m       \u001b[0;32mreturn\u001b[0m \u001b[0m_ListFetchMapper\u001b[0m\u001b[0;34m(\u001b[0m\u001b[0mfetch\u001b[0m\u001b[0;34m)\u001b[0m\u001b[0;34m\u001b[0m\u001b[0;34m\u001b[0m\u001b[0m\n\u001b[0m\u001b[1;32m    267\u001b[0m     \u001b[0;32melif\u001b[0m \u001b[0misinstance\u001b[0m\u001b[0;34m(\u001b[0m\u001b[0mfetch\u001b[0m\u001b[0;34m,\u001b[0m \u001b[0mcollections_abc\u001b[0m\u001b[0;34m.\u001b[0m\u001b[0mMapping\u001b[0m\u001b[0;34m)\u001b[0m\u001b[0;34m:\u001b[0m\u001b[0;34m\u001b[0m\u001b[0;34m\u001b[0m\u001b[0m\n\u001b[1;32m    268\u001b[0m       \u001b[0;32mreturn\u001b[0m \u001b[0m_DictFetchMapper\u001b[0m\u001b[0;34m(\u001b[0m\u001b[0mfetch\u001b[0m\u001b[0;34m)\u001b[0m\u001b[0;34m\u001b[0m\u001b[0;34m\u001b[0m\u001b[0m\n",
      "\u001b[0;32m/usr/common/software/tensorflow/intel-tensorflow/1.15.0-py37/lib/python3.7/site-packages/tensorflow_core/python/client/session.py\u001b[0m in \u001b[0;36m__init__\u001b[0;34m(self, fetches)\u001b[0m\n\u001b[1;32m    373\u001b[0m     \"\"\"\n\u001b[1;32m    374\u001b[0m     \u001b[0mself\u001b[0m\u001b[0;34m.\u001b[0m\u001b[0m_fetch_type\u001b[0m \u001b[0;34m=\u001b[0m \u001b[0mtype\u001b[0m\u001b[0;34m(\u001b[0m\u001b[0mfetches\u001b[0m\u001b[0;34m)\u001b[0m\u001b[0;34m\u001b[0m\u001b[0;34m\u001b[0m\u001b[0m\n\u001b[0;32m--> 375\u001b[0;31m     \u001b[0mself\u001b[0m\u001b[0;34m.\u001b[0m\u001b[0m_mappers\u001b[0m \u001b[0;34m=\u001b[0m \u001b[0;34m[\u001b[0m\u001b[0m_FetchMapper\u001b[0m\u001b[0;34m.\u001b[0m\u001b[0mfor_fetch\u001b[0m\u001b[0;34m(\u001b[0m\u001b[0mfetch\u001b[0m\u001b[0;34m)\u001b[0m \u001b[0;32mfor\u001b[0m \u001b[0mfetch\u001b[0m \u001b[0;32min\u001b[0m \u001b[0mfetches\u001b[0m\u001b[0;34m]\u001b[0m\u001b[0;34m\u001b[0m\u001b[0;34m\u001b[0m\u001b[0m\n\u001b[0m\u001b[1;32m    376\u001b[0m     \u001b[0mself\u001b[0m\u001b[0;34m.\u001b[0m\u001b[0m_unique_fetches\u001b[0m\u001b[0;34m,\u001b[0m \u001b[0mself\u001b[0m\u001b[0;34m.\u001b[0m\u001b[0m_value_indices\u001b[0m \u001b[0;34m=\u001b[0m \u001b[0m_uniquify_fetches\u001b[0m\u001b[0;34m(\u001b[0m\u001b[0mself\u001b[0m\u001b[0;34m.\u001b[0m\u001b[0m_mappers\u001b[0m\u001b[0;34m)\u001b[0m\u001b[0;34m\u001b[0m\u001b[0;34m\u001b[0m\u001b[0m\n\u001b[1;32m    377\u001b[0m \u001b[0;34m\u001b[0m\u001b[0m\n",
      "\u001b[0;32m/usr/common/software/tensorflow/intel-tensorflow/1.15.0-py37/lib/python3.7/site-packages/tensorflow_core/python/client/session.py\u001b[0m in \u001b[0;36m<listcomp>\u001b[0;34m(.0)\u001b[0m\n\u001b[1;32m    373\u001b[0m     \"\"\"\n\u001b[1;32m    374\u001b[0m     \u001b[0mself\u001b[0m\u001b[0;34m.\u001b[0m\u001b[0m_fetch_type\u001b[0m \u001b[0;34m=\u001b[0m \u001b[0mtype\u001b[0m\u001b[0;34m(\u001b[0m\u001b[0mfetches\u001b[0m\u001b[0;34m)\u001b[0m\u001b[0;34m\u001b[0m\u001b[0;34m\u001b[0m\u001b[0m\n\u001b[0;32m--> 375\u001b[0;31m     \u001b[0mself\u001b[0m\u001b[0;34m.\u001b[0m\u001b[0m_mappers\u001b[0m \u001b[0;34m=\u001b[0m \u001b[0;34m[\u001b[0m\u001b[0m_FetchMapper\u001b[0m\u001b[0;34m.\u001b[0m\u001b[0mfor_fetch\u001b[0m\u001b[0;34m(\u001b[0m\u001b[0mfetch\u001b[0m\u001b[0;34m)\u001b[0m \u001b[0;32mfor\u001b[0m \u001b[0mfetch\u001b[0m \u001b[0;32min\u001b[0m \u001b[0mfetches\u001b[0m\u001b[0;34m]\u001b[0m\u001b[0;34m\u001b[0m\u001b[0;34m\u001b[0m\u001b[0m\n\u001b[0m\u001b[1;32m    376\u001b[0m     \u001b[0mself\u001b[0m\u001b[0;34m.\u001b[0m\u001b[0m_unique_fetches\u001b[0m\u001b[0;34m,\u001b[0m \u001b[0mself\u001b[0m\u001b[0;34m.\u001b[0m\u001b[0m_value_indices\u001b[0m \u001b[0;34m=\u001b[0m \u001b[0m_uniquify_fetches\u001b[0m\u001b[0;34m(\u001b[0m\u001b[0mself\u001b[0m\u001b[0;34m.\u001b[0m\u001b[0m_mappers\u001b[0m\u001b[0;34m)\u001b[0m\u001b[0;34m\u001b[0m\u001b[0;34m\u001b[0m\u001b[0m\n\u001b[1;32m    377\u001b[0m \u001b[0;34m\u001b[0m\u001b[0m\n",
      "\u001b[0;32m/usr/common/software/tensorflow/intel-tensorflow/1.15.0-py37/lib/python3.7/site-packages/tensorflow_core/python/client/session.py\u001b[0m in \u001b[0;36mfor_fetch\u001b[0;34m(fetch)\u001b[0m\n\u001b[1;32m    264\u001b[0m     \u001b[0;32melif\u001b[0m \u001b[0misinstance\u001b[0m\u001b[0;34m(\u001b[0m\u001b[0mfetch\u001b[0m\u001b[0;34m,\u001b[0m \u001b[0;34m(\u001b[0m\u001b[0mlist\u001b[0m\u001b[0;34m,\u001b[0m \u001b[0mtuple\u001b[0m\u001b[0;34m)\u001b[0m\u001b[0;34m)\u001b[0m\u001b[0;34m:\u001b[0m\u001b[0;34m\u001b[0m\u001b[0;34m\u001b[0m\u001b[0m\n\u001b[1;32m    265\u001b[0m       \u001b[0;31m# NOTE(touts): This is also the code path for namedtuples.\u001b[0m\u001b[0;34m\u001b[0m\u001b[0;34m\u001b[0m\u001b[0;34m\u001b[0m\u001b[0m\n\u001b[0;32m--> 266\u001b[0;31m       \u001b[0;32mreturn\u001b[0m \u001b[0m_ListFetchMapper\u001b[0m\u001b[0;34m(\u001b[0m\u001b[0mfetch\u001b[0m\u001b[0;34m)\u001b[0m\u001b[0;34m\u001b[0m\u001b[0;34m\u001b[0m\u001b[0m\n\u001b[0m\u001b[1;32m    267\u001b[0m     \u001b[0;32melif\u001b[0m \u001b[0misinstance\u001b[0m\u001b[0;34m(\u001b[0m\u001b[0mfetch\u001b[0m\u001b[0;34m,\u001b[0m \u001b[0mcollections_abc\u001b[0m\u001b[0;34m.\u001b[0m\u001b[0mMapping\u001b[0m\u001b[0;34m)\u001b[0m\u001b[0;34m:\u001b[0m\u001b[0;34m\u001b[0m\u001b[0;34m\u001b[0m\u001b[0m\n\u001b[1;32m    268\u001b[0m       \u001b[0;32mreturn\u001b[0m \u001b[0m_DictFetchMapper\u001b[0m\u001b[0;34m(\u001b[0m\u001b[0mfetch\u001b[0m\u001b[0;34m)\u001b[0m\u001b[0;34m\u001b[0m\u001b[0;34m\u001b[0m\u001b[0m\n",
      "\u001b[0;32m/usr/common/software/tensorflow/intel-tensorflow/1.15.0-py37/lib/python3.7/site-packages/tensorflow_core/python/client/session.py\u001b[0m in \u001b[0;36m__init__\u001b[0;34m(self, fetches)\u001b[0m\n\u001b[1;32m    373\u001b[0m     \"\"\"\n\u001b[1;32m    374\u001b[0m     \u001b[0mself\u001b[0m\u001b[0;34m.\u001b[0m\u001b[0m_fetch_type\u001b[0m \u001b[0;34m=\u001b[0m \u001b[0mtype\u001b[0m\u001b[0;34m(\u001b[0m\u001b[0mfetches\u001b[0m\u001b[0;34m)\u001b[0m\u001b[0;34m\u001b[0m\u001b[0;34m\u001b[0m\u001b[0m\n\u001b[0;32m--> 375\u001b[0;31m     \u001b[0mself\u001b[0m\u001b[0;34m.\u001b[0m\u001b[0m_mappers\u001b[0m \u001b[0;34m=\u001b[0m \u001b[0;34m[\u001b[0m\u001b[0m_FetchMapper\u001b[0m\u001b[0;34m.\u001b[0m\u001b[0mfor_fetch\u001b[0m\u001b[0;34m(\u001b[0m\u001b[0mfetch\u001b[0m\u001b[0;34m)\u001b[0m \u001b[0;32mfor\u001b[0m \u001b[0mfetch\u001b[0m \u001b[0;32min\u001b[0m \u001b[0mfetches\u001b[0m\u001b[0;34m]\u001b[0m\u001b[0;34m\u001b[0m\u001b[0;34m\u001b[0m\u001b[0m\n\u001b[0m\u001b[1;32m    376\u001b[0m     \u001b[0mself\u001b[0m\u001b[0;34m.\u001b[0m\u001b[0m_unique_fetches\u001b[0m\u001b[0;34m,\u001b[0m \u001b[0mself\u001b[0m\u001b[0;34m.\u001b[0m\u001b[0m_value_indices\u001b[0m \u001b[0;34m=\u001b[0m \u001b[0m_uniquify_fetches\u001b[0m\u001b[0;34m(\u001b[0m\u001b[0mself\u001b[0m\u001b[0;34m.\u001b[0m\u001b[0m_mappers\u001b[0m\u001b[0;34m)\u001b[0m\u001b[0;34m\u001b[0m\u001b[0;34m\u001b[0m\u001b[0m\n\u001b[1;32m    377\u001b[0m \u001b[0;34m\u001b[0m\u001b[0m\n",
      "\u001b[0;32m/usr/common/software/tensorflow/intel-tensorflow/1.15.0-py37/lib/python3.7/site-packages/tensorflow_core/python/client/session.py\u001b[0m in \u001b[0;36m<listcomp>\u001b[0;34m(.0)\u001b[0m\n\u001b[1;32m    373\u001b[0m     \"\"\"\n\u001b[1;32m    374\u001b[0m     \u001b[0mself\u001b[0m\u001b[0;34m.\u001b[0m\u001b[0m_fetch_type\u001b[0m \u001b[0;34m=\u001b[0m \u001b[0mtype\u001b[0m\u001b[0;34m(\u001b[0m\u001b[0mfetches\u001b[0m\u001b[0;34m)\u001b[0m\u001b[0;34m\u001b[0m\u001b[0;34m\u001b[0m\u001b[0m\n\u001b[0;32m--> 375\u001b[0;31m     \u001b[0mself\u001b[0m\u001b[0;34m.\u001b[0m\u001b[0m_mappers\u001b[0m \u001b[0;34m=\u001b[0m \u001b[0;34m[\u001b[0m\u001b[0m_FetchMapper\u001b[0m\u001b[0;34m.\u001b[0m\u001b[0mfor_fetch\u001b[0m\u001b[0;34m(\u001b[0m\u001b[0mfetch\u001b[0m\u001b[0;34m)\u001b[0m \u001b[0;32mfor\u001b[0m \u001b[0mfetch\u001b[0m \u001b[0;32min\u001b[0m \u001b[0mfetches\u001b[0m\u001b[0;34m]\u001b[0m\u001b[0;34m\u001b[0m\u001b[0;34m\u001b[0m\u001b[0m\n\u001b[0m\u001b[1;32m    376\u001b[0m     \u001b[0mself\u001b[0m\u001b[0;34m.\u001b[0m\u001b[0m_unique_fetches\u001b[0m\u001b[0;34m,\u001b[0m \u001b[0mself\u001b[0m\u001b[0;34m.\u001b[0m\u001b[0m_value_indices\u001b[0m \u001b[0;34m=\u001b[0m \u001b[0m_uniquify_fetches\u001b[0m\u001b[0;34m(\u001b[0m\u001b[0mself\u001b[0m\u001b[0;34m.\u001b[0m\u001b[0m_mappers\u001b[0m\u001b[0;34m)\u001b[0m\u001b[0;34m\u001b[0m\u001b[0;34m\u001b[0m\u001b[0m\n\u001b[1;32m    377\u001b[0m \u001b[0;34m\u001b[0m\u001b[0m\n",
      "\u001b[0;32m/usr/common/software/tensorflow/intel-tensorflow/1.15.0-py37/lib/python3.7/site-packages/tensorflow_core/python/client/session.py\u001b[0m in \u001b[0;36mfor_fetch\u001b[0;34m(fetch)\u001b[0m\n\u001b[1;32m    261\u001b[0m     \u001b[0;32mif\u001b[0m \u001b[0mfetch\u001b[0m \u001b[0;32mis\u001b[0m \u001b[0;32mNone\u001b[0m\u001b[0;34m:\u001b[0m\u001b[0;34m\u001b[0m\u001b[0;34m\u001b[0m\u001b[0m\n\u001b[1;32m    262\u001b[0m       raise TypeError('Fetch argument %r has invalid type %r' %\n\u001b[0;32m--> 263\u001b[0;31m                       (fetch, type(fetch)))\n\u001b[0m\u001b[1;32m    264\u001b[0m     \u001b[0;32melif\u001b[0m \u001b[0misinstance\u001b[0m\u001b[0;34m(\u001b[0m\u001b[0mfetch\u001b[0m\u001b[0;34m,\u001b[0m \u001b[0;34m(\u001b[0m\u001b[0mlist\u001b[0m\u001b[0;34m,\u001b[0m \u001b[0mtuple\u001b[0m\u001b[0;34m)\u001b[0m\u001b[0;34m)\u001b[0m\u001b[0;34m:\u001b[0m\u001b[0;34m\u001b[0m\u001b[0;34m\u001b[0m\u001b[0m\n\u001b[1;32m    265\u001b[0m       \u001b[0;31m# NOTE(touts): This is also the code path for namedtuples.\u001b[0m\u001b[0;34m\u001b[0m\u001b[0;34m\u001b[0m\u001b[0;34m\u001b[0m\u001b[0m\n",
      "\u001b[0;31mTypeError\u001b[0m: Fetch argument None has invalid type <class 'NoneType'>"
     ]
    }
   ],
   "source": [
    "a = tensorflow.Variable(np.array([1, 1.2, 1.3]), dtype = tensorflow.float32)\n",
    "b = tensorflow.Variable(np.array([1.5,0.99, 2.3]), dtype = tensorflow.float32)\n",
    "g= tensorflow.gradients(a , b)\n",
    "\n",
    "init = tensorflow.global_variables_initializer() \n",
    "init_local = tensorflow.local_variables_initializer()\n",
    "with tensorflow.Session() as sess:\n",
    "    sess.run([init, init_local])\n",
    "    print(sess.run([g]))"
   ]
  },
  {
   "cell_type": "code",
   "execution_count": 100,
   "metadata": {},
   "outputs": [],
   "source": [
    "    \n",
    "intermediate_dim = 6\n",
    "latent_dim = 2\n",
    "       \n",
    "original_dim = X_train.shape[1]\n",
    "\n",
    "inputs = Input(shape=(original_dim,))\n",
    "hidden = Dense(intermediate_dim, activation='relu')(inputs)\n",
    "z_mean = Dense(latent_dim, activation='linear')(hidden)\n",
    "z_sigma = Dense(latent_dim,activation='linear')(hidden)\n",
    "    \n",
    "def sample_z(args):\n",
    "    z_mean, z_sigma = args\n",
    "    eps = K.random_normal(shape=(K.shape(inputs)[0],latent_dim), mean=0., stddev=1.)\n",
    "    return z_mean + K.exp(z_sigma / 2) * eps \n",
    "\n",
    "z = Lambda(sample_z, output_shape=(latent_dim,))([z_mean, z_sigma])\n",
    "encoder = Model(inputs, z_mean)\n",
    "encoder.load_weights(\"testencoder_newvariables.h5\")"
   ]
  },
  {
   "cell_type": "code",
   "execution_count": 101,
   "metadata": {},
   "outputs": [
    {
     "name": "stdout",
     "output_type": "stream",
     "text": [
      "float64\n",
      "[ 0.30303162 -0.07653354 -0.16930026 -0.34457913]\n"
     ]
    },
    {
     "data": {
      "text/plain": [
       "'\\nxt=[]\\nyt=[]\\nfor i in range(n_examples-1):\\n    xt.append(old_x[i+1][5])\\nprint(xt)\\nfor i in range(n_examples-1):\\n    yt.append(zvals[i+1][1])\\nprint(yt)\\n'"
      ]
     },
     "execution_count": 101,
     "metadata": {},
     "output_type": "execute_result"
    }
   ],
   "source": [
    "n_examples = 4\n",
    "\n",
    "old_x = X_train[:n_examples]\n",
    "zvals = encoder.predict(old_x)\n",
    "print(old_x.dtype)\n",
    "print(zvals[:, 0])\n",
    "\"\"\"\n",
    "xt=[]\n",
    "yt=[]\n",
    "for i in range(n_examples-1):\n",
    "    xt.append(old_x[i+1][5])\n",
    "print(xt)\n",
    "for i in range(n_examples-1):\n",
    "    yt.append(zvals[i+1][1])\n",
    "print(yt)\n",
    "\"\"\""
   ]
  },
  {
   "cell_type": "code",
   "execution_count": 97,
   "metadata": {},
   "outputs": [
    {
     "name": "stdout",
     "output_type": "stream",
     "text": [
      "Tensor(\"Placeholder_40:0\", dtype=float64)\n"
     ]
    },
    {
     "ename": "ValueError",
     "evalue": "Cannot take the length of shape with unknown rank.",
     "output_type": "error",
     "traceback": [
      "\u001b[0;31m---------------------------------------------------------------------------\u001b[0m",
      "\u001b[0;31mValueError\u001b[0m                                Traceback (most recent call last)",
      "\u001b[0;32m<ipython-input-97-84741fcedbf7>\u001b[0m in \u001b[0;36m<module>\u001b[0;34m\u001b[0m\n\u001b[1;32m      1\u001b[0m \u001b[0mx\u001b[0m \u001b[0;34m=\u001b[0m \u001b[0mtensorflow\u001b[0m\u001b[0;34m.\u001b[0m\u001b[0mplaceholder\u001b[0m\u001b[0;34m(\u001b[0m\u001b[0mtensorflow\u001b[0m\u001b[0;34m.\u001b[0m\u001b[0mfloat64\u001b[0m\u001b[0;34m,\u001b[0m \u001b[0;32mNone\u001b[0m\u001b[0;34m)\u001b[0m\u001b[0;34m\u001b[0m\u001b[0;34m\u001b[0m\u001b[0m\n\u001b[1;32m      2\u001b[0m \u001b[0mprint\u001b[0m\u001b[0;34m(\u001b[0m\u001b[0mx\u001b[0m\u001b[0;34m)\u001b[0m\u001b[0;34m\u001b[0m\u001b[0;34m\u001b[0m\u001b[0m\n\u001b[0;32m----> 3\u001b[0;31m \u001b[0my\u001b[0m \u001b[0;34m=\u001b[0m  \u001b[0mencoder\u001b[0m\u001b[0;34m.\u001b[0m\u001b[0mpredict\u001b[0m\u001b[0;34m(\u001b[0m\u001b[0mx\u001b[0m\u001b[0;34m,\u001b[0m \u001b[0msteps\u001b[0m\u001b[0;34m=\u001b[0m\u001b[0;36m1\u001b[0m\u001b[0;34m)\u001b[0m\u001b[0;34m\u001b[0m\u001b[0;34m\u001b[0m\u001b[0m\n\u001b[0m\u001b[1;32m      4\u001b[0m \u001b[0mprint\u001b[0m\u001b[0;34m(\u001b[0m\u001b[0my\u001b[0m\u001b[0;34m.\u001b[0m\u001b[0mshape\u001b[0m\u001b[0;34m)\u001b[0m\u001b[0;34m\u001b[0m\u001b[0;34m\u001b[0m\u001b[0m\n\u001b[1;32m      5\u001b[0m \u001b[0mvar_grad\u001b[0m \u001b[0;34m=\u001b[0m \u001b[0mtensorflow\u001b[0m\u001b[0;34m.\u001b[0m\u001b[0mgradients\u001b[0m\u001b[0;34m(\u001b[0m\u001b[0my\u001b[0m\u001b[0;34m,\u001b[0m \u001b[0mx\u001b[0m\u001b[0;34m)\u001b[0m\u001b[0;34m\u001b[0m\u001b[0;34m\u001b[0m\u001b[0m\n",
      "\u001b[0;32m/usr/common/software/tensorflow/intel-tensorflow/1.15.0-py37/lib/python3.7/site-packages/tensorflow_core/python/keras/engine/training.py\u001b[0m in \u001b[0;36mpredict\u001b[0;34m(self, x, batch_size, verbose, steps, callbacks, max_queue_size, workers, use_multiprocessing)\u001b[0m\n\u001b[1;32m    906\u001b[0m         \u001b[0mmax_queue_size\u001b[0m\u001b[0;34m=\u001b[0m\u001b[0mmax_queue_size\u001b[0m\u001b[0;34m,\u001b[0m\u001b[0;34m\u001b[0m\u001b[0;34m\u001b[0m\u001b[0m\n\u001b[1;32m    907\u001b[0m         \u001b[0mworkers\u001b[0m\u001b[0;34m=\u001b[0m\u001b[0mworkers\u001b[0m\u001b[0;34m,\u001b[0m\u001b[0;34m\u001b[0m\u001b[0;34m\u001b[0m\u001b[0m\n\u001b[0;32m--> 908\u001b[0;31m         use_multiprocessing=use_multiprocessing)\n\u001b[0m\u001b[1;32m    909\u001b[0m \u001b[0;34m\u001b[0m\u001b[0m\n\u001b[1;32m    910\u001b[0m   \u001b[0;32mdef\u001b[0m \u001b[0mreset_metrics\u001b[0m\u001b[0;34m(\u001b[0m\u001b[0mself\u001b[0m\u001b[0;34m)\u001b[0m\u001b[0;34m:\u001b[0m\u001b[0;34m\u001b[0m\u001b[0;34m\u001b[0m\u001b[0m\n",
      "\u001b[0;32m/usr/common/software/tensorflow/intel-tensorflow/1.15.0-py37/lib/python3.7/site-packages/tensorflow_core/python/keras/engine/training_arrays.py\u001b[0m in \u001b[0;36mpredict\u001b[0;34m(self, model, x, batch_size, verbose, steps, callbacks, **kwargs)\u001b[0m\n\u001b[1;32m    714\u001b[0m     \u001b[0mbatch_size\u001b[0m \u001b[0;34m=\u001b[0m \u001b[0mmodel\u001b[0m\u001b[0;34m.\u001b[0m\u001b[0m_validate_or_infer_batch_size\u001b[0m\u001b[0;34m(\u001b[0m\u001b[0mbatch_size\u001b[0m\u001b[0;34m,\u001b[0m \u001b[0msteps\u001b[0m\u001b[0;34m,\u001b[0m \u001b[0mx\u001b[0m\u001b[0;34m)\u001b[0m\u001b[0;34m\u001b[0m\u001b[0;34m\u001b[0m\u001b[0m\n\u001b[1;32m    715\u001b[0m     x, _, _ = model._standardize_user_data(\n\u001b[0;32m--> 716\u001b[0;31m         x, check_steps=True, steps_name='steps', steps=steps)\n\u001b[0m\u001b[1;32m    717\u001b[0m     return predict_loop(\n\u001b[1;32m    718\u001b[0m         \u001b[0mmodel\u001b[0m\u001b[0;34m,\u001b[0m\u001b[0;34m\u001b[0m\u001b[0;34m\u001b[0m\u001b[0m\n",
      "\u001b[0;32m/usr/common/software/tensorflow/intel-tensorflow/1.15.0-py37/lib/python3.7/site-packages/tensorflow_core/python/keras/engine/training.py\u001b[0m in \u001b[0;36m_standardize_user_data\u001b[0;34m(self, x, y, sample_weight, class_weight, batch_size, check_steps, steps_name, steps, validation_split, shuffle, extract_tensors_from_dataset)\u001b[0m\n\u001b[1;32m   2469\u001b[0m           \u001b[0mfeed_input_shapes\u001b[0m\u001b[0;34m,\u001b[0m\u001b[0;34m\u001b[0m\u001b[0;34m\u001b[0m\u001b[0m\n\u001b[1;32m   2470\u001b[0m           \u001b[0mcheck_batch_axis\u001b[0m\u001b[0;34m=\u001b[0m\u001b[0;32mFalse\u001b[0m\u001b[0;34m,\u001b[0m  \u001b[0;31m# Don't enforce the batch size.\u001b[0m\u001b[0;34m\u001b[0m\u001b[0;34m\u001b[0m\u001b[0m\n\u001b[0;32m-> 2471\u001b[0;31m           exception_prefix='input')\n\u001b[0m\u001b[1;32m   2472\u001b[0m \u001b[0;34m\u001b[0m\u001b[0m\n\u001b[1;32m   2473\u001b[0m     \u001b[0;31m# Get typespecs for the input data and sanitize it if necessary.\u001b[0m\u001b[0;34m\u001b[0m\u001b[0;34m\u001b[0m\u001b[0;34m\u001b[0m\u001b[0m\n",
      "\u001b[0;32m/usr/common/software/tensorflow/intel-tensorflow/1.15.0-py37/lib/python3.7/site-packages/tensorflow_core/python/keras/engine/training_utils.py\u001b[0m in \u001b[0;36mstandardize_input_data\u001b[0;34m(data, names, shapes, check_batch_axis, exception_prefix)\u001b[0m\n\u001b[1;32m    515\u001b[0m   \u001b[0;32mif\u001b[0m \u001b[0mshapes\u001b[0m \u001b[0;32mis\u001b[0m \u001b[0;32mnot\u001b[0m \u001b[0;32mNone\u001b[0m\u001b[0;34m:\u001b[0m\u001b[0;34m\u001b[0m\u001b[0;34m\u001b[0m\u001b[0m\n\u001b[1;32m    516\u001b[0m     data = [\n\u001b[0;32m--> 517\u001b[0;31m         \u001b[0mstandardize_single_array\u001b[0m\u001b[0;34m(\u001b[0m\u001b[0mx\u001b[0m\u001b[0;34m,\u001b[0m \u001b[0mshape\u001b[0m\u001b[0;34m)\u001b[0m \u001b[0;32mfor\u001b[0m \u001b[0;34m(\u001b[0m\u001b[0mx\u001b[0m\u001b[0;34m,\u001b[0m \u001b[0mshape\u001b[0m\u001b[0;34m)\u001b[0m \u001b[0;32min\u001b[0m \u001b[0mzip\u001b[0m\u001b[0;34m(\u001b[0m\u001b[0mdata\u001b[0m\u001b[0;34m,\u001b[0m \u001b[0mshapes\u001b[0m\u001b[0;34m)\u001b[0m\u001b[0;34m\u001b[0m\u001b[0;34m\u001b[0m\u001b[0m\n\u001b[0m\u001b[1;32m    518\u001b[0m     ]\n\u001b[1;32m    519\u001b[0m   \u001b[0;32melse\u001b[0m\u001b[0;34m:\u001b[0m\u001b[0;34m\u001b[0m\u001b[0;34m\u001b[0m\u001b[0m\n",
      "\u001b[0;32m/usr/common/software/tensorflow/intel-tensorflow/1.15.0-py37/lib/python3.7/site-packages/tensorflow_core/python/keras/engine/training_utils.py\u001b[0m in \u001b[0;36m<listcomp>\u001b[0;34m(.0)\u001b[0m\n\u001b[1;32m    515\u001b[0m   \u001b[0;32mif\u001b[0m \u001b[0mshapes\u001b[0m \u001b[0;32mis\u001b[0m \u001b[0;32mnot\u001b[0m \u001b[0;32mNone\u001b[0m\u001b[0;34m:\u001b[0m\u001b[0;34m\u001b[0m\u001b[0;34m\u001b[0m\u001b[0m\n\u001b[1;32m    516\u001b[0m     data = [\n\u001b[0;32m--> 517\u001b[0;31m         \u001b[0mstandardize_single_array\u001b[0m\u001b[0;34m(\u001b[0m\u001b[0mx\u001b[0m\u001b[0;34m,\u001b[0m \u001b[0mshape\u001b[0m\u001b[0;34m)\u001b[0m \u001b[0;32mfor\u001b[0m \u001b[0;34m(\u001b[0m\u001b[0mx\u001b[0m\u001b[0;34m,\u001b[0m \u001b[0mshape\u001b[0m\u001b[0;34m)\u001b[0m \u001b[0;32min\u001b[0m \u001b[0mzip\u001b[0m\u001b[0;34m(\u001b[0m\u001b[0mdata\u001b[0m\u001b[0;34m,\u001b[0m \u001b[0mshapes\u001b[0m\u001b[0;34m)\u001b[0m\u001b[0;34m\u001b[0m\u001b[0;34m\u001b[0m\u001b[0m\n\u001b[0m\u001b[1;32m    518\u001b[0m     ]\n\u001b[1;32m    519\u001b[0m   \u001b[0;32melse\u001b[0m\u001b[0;34m:\u001b[0m\u001b[0;34m\u001b[0m\u001b[0;34m\u001b[0m\u001b[0m\n",
      "\u001b[0;32m/usr/common/software/tensorflow/intel-tensorflow/1.15.0-py37/lib/python3.7/site-packages/tensorflow_core/python/keras/engine/training_utils.py\u001b[0m in \u001b[0;36mstandardize_single_array\u001b[0;34m(x, expected_shape)\u001b[0m\n\u001b[1;32m    440\u001b[0m         'Expected an array data type but received an integer: {}'.format(x))\n\u001b[1;32m    441\u001b[0m \u001b[0;34m\u001b[0m\u001b[0m\n\u001b[0;32m--> 442\u001b[0;31m   if (x.shape is not None and len(x.shape) == 1 and\n\u001b[0m\u001b[1;32m    443\u001b[0m       (expected_shape is None or len(expected_shape) != 1)):\n\u001b[1;32m    444\u001b[0m     \u001b[0;32mif\u001b[0m \u001b[0mtensor_util\u001b[0m\u001b[0;34m.\u001b[0m\u001b[0mis_tensor\u001b[0m\u001b[0;34m(\u001b[0m\u001b[0mx\u001b[0m\u001b[0;34m)\u001b[0m\u001b[0;34m:\u001b[0m\u001b[0;34m\u001b[0m\u001b[0;34m\u001b[0m\u001b[0m\n",
      "\u001b[0;32m/usr/common/software/tensorflow/intel-tensorflow/1.15.0-py37/lib/python3.7/site-packages/tensorflow_core/python/framework/tensor_shape.py\u001b[0m in \u001b[0;36m__len__\u001b[0;34m(self)\u001b[0m\n\u001b[1;32m    825\u001b[0m     \u001b[0;34m\"\"\"Returns the rank of this shape, or raises ValueError if unspecified.\"\"\"\u001b[0m\u001b[0;34m\u001b[0m\u001b[0;34m\u001b[0m\u001b[0m\n\u001b[1;32m    826\u001b[0m     \u001b[0;32mif\u001b[0m \u001b[0mself\u001b[0m\u001b[0;34m.\u001b[0m\u001b[0m_dims\u001b[0m \u001b[0;32mis\u001b[0m \u001b[0;32mNone\u001b[0m\u001b[0;34m:\u001b[0m\u001b[0;34m\u001b[0m\u001b[0;34m\u001b[0m\u001b[0m\n\u001b[0;32m--> 827\u001b[0;31m       \u001b[0;32mraise\u001b[0m \u001b[0mValueError\u001b[0m\u001b[0;34m(\u001b[0m\u001b[0;34m\"Cannot take the length of shape with unknown rank.\"\u001b[0m\u001b[0;34m)\u001b[0m\u001b[0;34m\u001b[0m\u001b[0;34m\u001b[0m\u001b[0m\n\u001b[0m\u001b[1;32m    828\u001b[0m     \u001b[0;32mreturn\u001b[0m \u001b[0mlen\u001b[0m\u001b[0;34m(\u001b[0m\u001b[0mself\u001b[0m\u001b[0;34m.\u001b[0m\u001b[0m_dims\u001b[0m\u001b[0;34m)\u001b[0m\u001b[0;34m\u001b[0m\u001b[0;34m\u001b[0m\u001b[0m\n\u001b[1;32m    829\u001b[0m \u001b[0;34m\u001b[0m\u001b[0m\n",
      "\u001b[0;31mValueError\u001b[0m: Cannot take the length of shape with unknown rank."
     ]
    }
   ],
   "source": [
    "\n",
    "x = tensorflow.placeholder(tensorflow.float64, shape=[None, 9])\n",
    "print(x)\n",
    "y =  encoder.predict(x, steps=1)\n",
    "print(y.shape)\n",
    "var_grad = tensorflow.gradients(y, x)\n",
    "input_x=old_x\n",
    "print(input_x.dtype)\n",
    "with tensorflow.Session() as session:\n",
    "    var_grad_val = session.run(var_grad,feed_dict={x:input_x}) \n",
    "\n",
    "print(var_grad_val)"
   ]
  },
  {
   "cell_type": "code",
   "execution_count": null,
   "metadata": {},
   "outputs": [],
   "source": []
  },
  {
   "cell_type": "code",
   "execution_count": 91,
   "metadata": {},
   "outputs": [
    {
     "name": "stdout",
     "output_type": "stream",
     "text": [
      "[1 2 3]\n"
     ]
    }
   ],
   "source": [
    "print(np.array([1, 2, 3]))"
   ]
  },
  {
   "cell_type": "code",
   "execution_count": 106,
   "metadata": {},
   "outputs": [
    {
     "ename": "SyntaxError",
     "evalue": "invalid syntax (<ipython-input-106-aa4a677e6164>, line 9)",
     "output_type": "error",
     "traceback": [
      "\u001b[0;36m  File \u001b[0;32m\"<ipython-input-106-aa4a677e6164>\"\u001b[0;36m, line \u001b[0;32m9\u001b[0m\n\u001b[0;31m    evaluated_gradients = sess.run(gradients,feed_dict{model.input:old_x})\u001b[0m\n\u001b[0m                                                      ^\u001b[0m\n\u001b[0;31mSyntaxError\u001b[0m\u001b[0;31m:\u001b[0m invalid syntax\n"
     ]
    }
   ],
   "source": [
    "output_v = model.output\n",
    "input_v = model.input\n",
    "gradients = tensorflow.gradients(output_v, input_v)\n",
    "\n",
    "#sess = tensorflow.Session()\n",
    "#sess.run(tensorflow.initialize_all_variables())\n",
    "\n",
    "with tensorflow.Session() as sess:\n",
    "    evaluated_gradients = sess.run(gradients,feed_dict{model.input:old_x})\n",
    "\n",
    "#print(sess.run(encoder.input,feed_dict={model.input:old_x}))\n",
    "\n",
    "print(evaluated_gradients)\n",
    "\n",
    "sess.close()"
   ]
  },
  {
   "cell_type": "code",
   "execution_count": 108,
   "metadata": {},
   "outputs": [
    {
     "ename": "SystemError",
     "evalue": "<built-in function TFE_Py_TapeWatch> returned a result with an error set",
     "output_type": "error",
     "traceback": [
      "\u001b[0;31m---------------------------------------------------------------------------\u001b[0m",
      "\u001b[0;31mAttributeError\u001b[0m                            Traceback (most recent call last)",
      "\u001b[0;31mAttributeError\u001b[0m: 'RefVariable' object has no attribute '_id'",
      "\nThe above exception was the direct cause of the following exception:\n",
      "\u001b[0;31mSystemError\u001b[0m                               Traceback (most recent call last)",
      "\u001b[0;32m<ipython-input-108-0f902656e14c>\u001b[0m in \u001b[0;36m<module>\u001b[0;34m\u001b[0m\n\u001b[1;32m      3\u001b[0m \u001b[0;34m\u001b[0m\u001b[0m\n\u001b[1;32m      4\u001b[0m \u001b[0;32mwith\u001b[0m \u001b[0mtensorflow\u001b[0m\u001b[0;34m.\u001b[0m\u001b[0mGradientTape\u001b[0m\u001b[0;34m(\u001b[0m\u001b[0;34m)\u001b[0m \u001b[0;32mas\u001b[0m \u001b[0mtape\u001b[0m\u001b[0;34m:\u001b[0m\u001b[0;34m\u001b[0m\u001b[0;34m\u001b[0m\u001b[0m\n\u001b[0;32m----> 5\u001b[0;31m     \u001b[0mtape\u001b[0m\u001b[0;34m.\u001b[0m\u001b[0mwatch\u001b[0m\u001b[0;34m(\u001b[0m\u001b[0mimage\u001b[0m\u001b[0;34m)\u001b[0m\u001b[0;34m\u001b[0m\u001b[0;34m\u001b[0m\u001b[0m\n\u001b[0m\u001b[1;32m      6\u001b[0m     \u001b[0mprediction\u001b[0m \u001b[0;34m=\u001b[0m \u001b[0mencoder\u001b[0m\u001b[0;34m.\u001b[0m\u001b[0mpredict\u001b[0m\u001b[0;34m(\u001b[0m\u001b[0mimage\u001b[0m\u001b[0;34m)\u001b[0m\u001b[0;34m\u001b[0m\u001b[0;34m\u001b[0m\u001b[0m\n\u001b[1;32m      7\u001b[0m \u001b[0;34m\u001b[0m\u001b[0m\n",
      "\u001b[0;32m/usr/common/software/tensorflow/intel-tensorflow/1.15.0-py37/lib/python3.7/site-packages/tensorflow_core/python/eager/backprop.py\u001b[0m in \u001b[0;36mwatch\u001b[0;34m(self, tensor)\u001b[0m\n\u001b[1;32m    859\u001b[0m         \u001b[0mtape\u001b[0m\u001b[0;34m.\u001b[0m\u001b[0mwatch_variable\u001b[0m\u001b[0;34m(\u001b[0m\u001b[0mself\u001b[0m\u001b[0;34m.\u001b[0m\u001b[0m_tape\u001b[0m\u001b[0;34m,\u001b[0m \u001b[0mt\u001b[0m\u001b[0;34m)\u001b[0m\u001b[0;34m\u001b[0m\u001b[0;34m\u001b[0m\u001b[0m\n\u001b[1;32m    860\u001b[0m       \u001b[0;32melse\u001b[0m\u001b[0;34m:\u001b[0m\u001b[0;34m\u001b[0m\u001b[0;34m\u001b[0m\u001b[0m\n\u001b[0;32m--> 861\u001b[0;31m         \u001b[0mtape\u001b[0m\u001b[0;34m.\u001b[0m\u001b[0mwatch\u001b[0m\u001b[0;34m(\u001b[0m\u001b[0mself\u001b[0m\u001b[0;34m.\u001b[0m\u001b[0m_tape\u001b[0m\u001b[0;34m,\u001b[0m \u001b[0mt\u001b[0m\u001b[0;34m)\u001b[0m\u001b[0;34m\u001b[0m\u001b[0;34m\u001b[0m\u001b[0m\n\u001b[0m\u001b[1;32m    862\u001b[0m \u001b[0;34m\u001b[0m\u001b[0m\n\u001b[1;32m    863\u001b[0m   \u001b[0;34m@\u001b[0m\u001b[0mtf_contextlib\u001b[0m\u001b[0;34m.\u001b[0m\u001b[0mcontextmanager\u001b[0m\u001b[0;34m\u001b[0m\u001b[0;34m\u001b[0m\u001b[0m\n",
      "\u001b[0;32m/usr/common/software/tensorflow/intel-tensorflow/1.15.0-py37/lib/python3.7/site-packages/tensorflow_core/python/eager/tape.py\u001b[0m in \u001b[0;36mwatch\u001b[0;34m(tape, tensor)\u001b[0m\n\u001b[1;32m     57\u001b[0m \u001b[0;32mdef\u001b[0m \u001b[0mwatch\u001b[0m\u001b[0;34m(\u001b[0m\u001b[0mtape\u001b[0m\u001b[0;34m,\u001b[0m \u001b[0mtensor\u001b[0m\u001b[0;34m)\u001b[0m\u001b[0;34m:\u001b[0m\u001b[0;34m\u001b[0m\u001b[0;34m\u001b[0m\u001b[0m\n\u001b[1;32m     58\u001b[0m   \u001b[0;34m\"\"\"Marks this tensor to be watched by the given tape.\"\"\"\u001b[0m\u001b[0;34m\u001b[0m\u001b[0;34m\u001b[0m\u001b[0m\n\u001b[0;32m---> 59\u001b[0;31m   \u001b[0mpywrap_tensorflow\u001b[0m\u001b[0;34m.\u001b[0m\u001b[0mTFE_Py_TapeWatch\u001b[0m\u001b[0;34m(\u001b[0m\u001b[0mtape\u001b[0m\u001b[0;34m.\u001b[0m\u001b[0m_tape\u001b[0m\u001b[0;34m,\u001b[0m \u001b[0mtensor\u001b[0m\u001b[0;34m)\u001b[0m  \u001b[0;31m# pylint: disable=protected-access\u001b[0m\u001b[0;34m\u001b[0m\u001b[0;34m\u001b[0m\u001b[0m\n\u001b[0m\u001b[1;32m     60\u001b[0m \u001b[0;34m\u001b[0m\u001b[0m\n\u001b[1;32m     61\u001b[0m \u001b[0;34m\u001b[0m\u001b[0m\n",
      "\u001b[0;31mSystemError\u001b[0m: <built-in function TFE_Py_TapeWatch> returned a result with an error set"
     ]
    }
   ],
   "source": [
    "input = old_x\n",
    "image = tensorflow.Variable(input)\n",
    "\n",
    "with tensorflow.GradientTape() as tape:\n",
    "    tape.watch(image)\n",
    "    prediction = encoder.predict(image)\n",
    "        \n",
    "grads = tape.gradient(prediction, image)\n",
    "print(grads)\n"
   ]
  },
  {
   "cell_type": "code",
   "execution_count": null,
   "metadata": {},
   "outputs": [],
   "source": []
  }
 ],
 "metadata": {
  "kernelspec": {
   "display_name": "tensorflow-v1.15.0-cpu",
   "language": "python",
   "name": "tensorflow_intel_1.15.0_py37"
  },
  "language_info": {
   "codemirror_mode": {
    "name": "ipython",
    "version": 3
   },
   "file_extension": ".py",
   "mimetype": "text/x-python",
   "name": "python",
   "nbconvert_exporter": "python",
   "pygments_lexer": "ipython3",
   "version": "3.7.4"
  }
 },
 "nbformat": 4,
 "nbformat_minor": 4
}
